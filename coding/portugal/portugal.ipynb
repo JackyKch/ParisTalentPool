{
 "cells": [
  {
   "cell_type": "markdown",
   "metadata": {},
   "source": [
    "## Imports"
   ]
  },
  {
   "cell_type": "code",
   "execution_count": 1,
   "metadata": {},
   "outputs": [],
   "source": [
    "import pandas as pd"
   ]
  },
  {
   "cell_type": "code",
   "execution_count": 2,
   "metadata": {},
   "outputs": [],
   "source": [
    "df_global = pd.DataFrame"
   ]
  },
  {
   "cell_type": "code",
   "execution_count": 3,
   "metadata": {},
   "outputs": [],
   "source": [
    "df_gk = pd.read_csv(\"../../data/portugal/portugal_goalkeepers.csv\")\n",
    "df_cb = pd.read_csv(\"../../data/portugal/portugal_centerbacks.csv\")\n",
    "df_lb = pd.read_csv(\"../../data/portugal/portugal_leftbacks.csv\")\n",
    "df_rb = pd.read_csv(\"../../data/portugal/portugal_rightbacks.csv\")\n",
    "df_dm = pd.read_csv(\"../../data/portugal/portugal_defensivemidfields.csv\")\n",
    "df_cm = pd.read_csv(\"../../data/portugal/portugal_centralmidfields.csv\")\n",
    "df_rm = pd.read_csv(\"../../data/portugal/portugal_rightmidfields.csv\")\n",
    "df_lm = pd.read_csv(\"../../data/portugal/portugal_leftmidfields.csv\")\n",
    "df_am = pd.read_csv(\"../../data/portugal/portugal_attackingmidfields.csv\")\n",
    "df_lw = pd.read_csv(\"../../data/portugal/portugal_leftwingers.csv\")\n",
    "df_rw = pd.read_csv(\"../../data/portugal/portugal_rightwingers.csv\")\n",
    "df_st = pd.read_csv(\"../../data/portugal/portugal_secondstrikers.csv\")\n",
    "df_cf = pd.read_csv(\"../../data/portugal/portugal_centerforwards.csv\")"
   ]
  },
  {
   "cell_type": "markdown",
   "metadata": {},
   "source": [
    "## Merge all the dataframes"
   ]
  },
  {
   "cell_type": "code",
   "execution_count": 4,
   "metadata": {},
   "outputs": [],
   "source": [
    "df_global = pd.concat([df_gk, df_cb, df_lb, df_rb, df_dm, df_cm, df_rm, df_lm, df_am, df_lw, df_rw, df_st, df_cf],ignore_index=True)"
   ]
  },
  {
   "cell_type": "code",
   "execution_count": 5,
   "metadata": {},
   "outputs": [
    {
     "name": "stdout",
     "output_type": "stream",
     "text": [
      "<class 'pandas.core.frame.DataFrame'>\n",
      "RangeIndex: 6630 entries, 0 to 6629\n",
      "Data columns (total 12 columns):\n",
      " #   Column           Non-Null Count  Dtype  \n",
      "---  ------           --------------  -----  \n",
      " 0   Number           3682 non-null   float64\n",
      " 1   Name             6630 non-null   object \n",
      " 2   Position         6630 non-null   object \n",
      " 3   Date of Birth    6630 non-null   object \n",
      " 4   Age              6629 non-null   object \n",
      " 5   Nationality      6630 non-null   object \n",
      " 6   Birth Country    6630 non-null   object \n",
      " 7   Place of Birth   5763 non-null   object \n",
      " 8   Height           5011 non-null   object \n",
      " 9   Market Value     6501 non-null   object \n",
      " 10  Main Position    5822 non-null   object \n",
      " 11  Other Positions  3986 non-null   object \n",
      "dtypes: float64(1), object(11)\n",
      "memory usage: 621.7+ KB\n"
     ]
    }
   ],
   "source": [
    "df_global.info()"
   ]
  },
  {
   "cell_type": "markdown",
   "metadata": {},
   "source": [
    "## Goalkeepers"
   ]
  },
  {
   "cell_type": "code",
   "execution_count": 6,
   "metadata": {},
   "outputs": [
    {
     "name": "stdout",
     "output_type": "stream",
     "text": [
      "<class 'pandas.core.frame.DataFrame'>\n",
      "RangeIndex: 808 entries, 0 to 807\n",
      "Data columns (total 10 columns):\n",
      " #   Column          Non-Null Count  Dtype  \n",
      "---  ------          --------------  -----  \n",
      " 0   Number          438 non-null    float64\n",
      " 1   Name            808 non-null    object \n",
      " 2   Position        808 non-null    object \n",
      " 3   Date of Birth   808 non-null    object \n",
      " 4   Age             808 non-null    int64  \n",
      " 5   Nationality     808 non-null    object \n",
      " 6   Birth Country   808 non-null    object \n",
      " 7   Place of Birth  687 non-null    object \n",
      " 8   Height          1 non-null      object \n",
      " 9   Market Value    679 non-null    object \n",
      "dtypes: float64(1), int64(1), object(8)\n",
      "memory usage: 63.2+ KB\n"
     ]
    }
   ],
   "source": [
    "df_gk.info()"
   ]
  },
  {
   "cell_type": "code",
   "execution_count": 7,
   "metadata": {},
   "outputs": [
    {
     "name": "stdout",
     "output_type": "stream",
     "text": [
      "12.187028657616892\n"
     ]
    }
   ],
   "source": [
    "print(len(df_gk)/len(df_global)*100)"
   ]
  },
  {
   "cell_type": "markdown",
   "metadata": {},
   "source": [
    "## Defenders"
   ]
  },
  {
   "cell_type": "code",
   "execution_count": 8,
   "metadata": {},
   "outputs": [],
   "source": [
    "df_defenders = pd.concat([ df_cb, df_lb, df_rb],ignore_index=True)"
   ]
  },
  {
   "cell_type": "code",
   "execution_count": 9,
   "metadata": {},
   "outputs": [
    {
     "name": "stdout",
     "output_type": "stream",
     "text": [
      "<class 'pandas.core.frame.DataFrame'>\n",
      "RangeIndex: 2246 entries, 0 to 2245\n",
      "Data columns (total 12 columns):\n",
      " #   Column           Non-Null Count  Dtype  \n",
      "---  ------           --------------  -----  \n",
      " 0   Number           1282 non-null   float64\n",
      " 1   Name             2246 non-null   object \n",
      " 2   Main Position    2246 non-null   object \n",
      " 3   Position         2246 non-null   object \n",
      " 4   Date of Birth    2246 non-null   object \n",
      " 5   Age              2246 non-null   object \n",
      " 6   Nationality      2246 non-null   object \n",
      " 7   Birth Country    2246 non-null   object \n",
      " 8   Place of Birth   1974 non-null   object \n",
      " 9   Other Positions  1322 non-null   object \n",
      " 10  Height           1948 non-null   object \n",
      " 11  Market Value     2246 non-null   object \n",
      "dtypes: float64(1), object(11)\n",
      "memory usage: 210.7+ KB\n"
     ]
    }
   ],
   "source": [
    "df_defenders.info()"
   ]
  },
  {
   "cell_type": "code",
   "execution_count": 10,
   "metadata": {},
   "outputs": [
    {
     "name": "stdout",
     "output_type": "stream",
     "text": [
      "33.8763197586727\n"
     ]
    }
   ],
   "source": [
    "print(len(df_defenders)/len(df_global)*100)"
   ]
  },
  {
   "cell_type": "markdown",
   "metadata": {},
   "source": [
    "## Midfielders"
   ]
  },
  {
   "cell_type": "code",
   "execution_count": 11,
   "metadata": {},
   "outputs": [],
   "source": [
    "df_midfielders = pd.concat([df_dm, df_cm, df_rm, df_lm, df_am],ignore_index=True)"
   ]
  },
  {
   "cell_type": "code",
   "execution_count": 12,
   "metadata": {},
   "outputs": [
    {
     "name": "stdout",
     "output_type": "stream",
     "text": [
      "<class 'pandas.core.frame.DataFrame'>\n",
      "RangeIndex: 1846 entries, 0 to 1845\n",
      "Data columns (total 12 columns):\n",
      " #   Column           Non-Null Count  Dtype  \n",
      "---  ------           --------------  -----  \n",
      " 0   Number           1089 non-null   float64\n",
      " 1   Name             1846 non-null   object \n",
      " 2   Main Position    1846 non-null   object \n",
      " 3   Position         1846 non-null   object \n",
      " 4   Date of Birth    1846 non-null   object \n",
      " 5   Age              1846 non-null   object \n",
      " 6   Nationality      1846 non-null   object \n",
      " 7   Birth Country    1846 non-null   object \n",
      " 8   Place of Birth   1610 non-null   object \n",
      " 9   Other Positions  1383 non-null   object \n",
      " 10  Height           1562 non-null   object \n",
      " 11  Market Value     1846 non-null   object \n",
      "dtypes: float64(1), object(11)\n",
      "memory usage: 173.2+ KB\n"
     ]
    }
   ],
   "source": [
    "df_midfielders.info()"
   ]
  },
  {
   "cell_type": "code",
   "execution_count": 13,
   "metadata": {},
   "outputs": [
    {
     "name": "stdout",
     "output_type": "stream",
     "text": [
      "27.84313725490196\n"
     ]
    }
   ],
   "source": [
    "print(len(df_midfielders)/len(df_global)*100)"
   ]
  },
  {
   "cell_type": "markdown",
   "metadata": {},
   "source": [
    "## Strikers"
   ]
  },
  {
   "cell_type": "code",
   "execution_count": 14,
   "metadata": {},
   "outputs": [],
   "source": [
    "df_strikers = pd.concat([df_lw, df_rw, df_st, df_cf],ignore_index=True)"
   ]
  },
  {
   "cell_type": "code",
   "execution_count": 15,
   "metadata": {},
   "outputs": [
    {
     "name": "stdout",
     "output_type": "stream",
     "text": [
      "<class 'pandas.core.frame.DataFrame'>\n",
      "RangeIndex: 1730 entries, 0 to 1729\n",
      "Data columns (total 12 columns):\n",
      " #   Column           Non-Null Count  Dtype  \n",
      "---  ------           --------------  -----  \n",
      " 0   Number           873 non-null    float64\n",
      " 1   Name             1730 non-null   object \n",
      " 2   Main Position    1730 non-null   object \n",
      " 3   Position         1730 non-null   object \n",
      " 4   Date of Birth    1730 non-null   object \n",
      " 5   Age              1729 non-null   object \n",
      " 6   Nationality      1730 non-null   object \n",
      " 7   Birth Country    1730 non-null   object \n",
      " 8   Place of Birth   1492 non-null   object \n",
      " 9   Other Positions  1281 non-null   object \n",
      " 10  Height           1500 non-null   object \n",
      " 11  Market Value     1730 non-null   object \n",
      "dtypes: float64(1), object(11)\n",
      "memory usage: 162.3+ KB\n"
     ]
    }
   ],
   "source": [
    "df_strikers.info()"
   ]
  },
  {
   "cell_type": "code",
   "execution_count": 16,
   "metadata": {},
   "outputs": [
    {
     "name": "stdout",
     "output_type": "stream",
     "text": [
      "26.09351432880845\n"
     ]
    }
   ],
   "source": [
    "print(len(df_strikers)/len(df_global)*100)"
   ]
  },
  {
   "cell_type": "code",
   "execution_count": null,
   "metadata": {},
   "outputs": [],
   "source": []
  }
 ],
 "metadata": {
  "kernelspec": {
   "display_name": "Python 3",
   "language": "python",
   "name": "python3"
  },
  "language_info": {
   "codemirror_mode": {
    "name": "ipython",
    "version": 3
   },
   "file_extension": ".py",
   "mimetype": "text/x-python",
   "name": "python",
   "nbconvert_exporter": "python",
   "pygments_lexer": "ipython3",
   "version": "3.9.6"
  }
 },
 "nbformat": 4,
 "nbformat_minor": 2
}
