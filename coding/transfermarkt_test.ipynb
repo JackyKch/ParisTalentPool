{
 "cells": [
  {
   "cell_type": "code",
   "execution_count": 26,
   "metadata": {},
   "outputs": [],
   "source": [
    "import re\n",
    "import requests\n",
    "from bs4 import BeautifulSoup\n",
    "import pandas as pd"
   ]
  },
  {
   "cell_type": "code",
   "execution_count": 306,
   "metadata": {},
   "outputs": [],
   "source": [
    "url = \"https://www.transfermarkt.com/detailsuche/spielerdetail/suche/46762278\""
   ]
  },
  {
   "cell_type": "code",
   "execution_count": 307,
   "metadata": {},
   "outputs": [],
   "source": [
    "headers = {\n",
    "    'user-agent': 'Mozilla/5.0 (Macintosh; Intel Mac OS X 10_15_7) AppleWebKit/537.36 (KHTML, like Gecko) Chrome/121.0.0.0 Safari/537.36',\n",
    "}"
   ]
  },
  {
   "cell_type": "code",
   "execution_count": 308,
   "metadata": {},
   "outputs": [],
   "source": [
    "response = requests.get(url, headers=headers)\n",
    "soup = BeautifulSoup(response.content, \"html.parser\")"
   ]
  },
  {
   "cell_type": "code",
   "execution_count": 5,
   "metadata": {},
   "outputs": [],
   "source": [
    "#for table in soup.find_all('table') :\n",
    "    #print(table.get('class'))"
   ]
  },
  {
   "cell_type": "code",
   "execution_count": 309,
   "metadata": {},
   "outputs": [],
   "source": [
    "tables = soup.find_all('table')"
   ]
  },
  {
   "cell_type": "code",
   "execution_count": 310,
   "metadata": {},
   "outputs": [],
   "source": [
    "table = soup.find('table', class_ = 'items')"
   ]
  },
  {
   "cell_type": "code",
   "execution_count": 32,
   "metadata": {},
   "outputs": [],
   "source": [
    "#rows = []"
   ]
  },
  {
   "cell_type": "code",
   "execution_count": 311,
   "metadata": {},
   "outputs": [],
   "source": [
    "# Defining of the dataframe\n",
    "#df = pd.DataFrame(columns=['Number', 'Name', 'Position', 'Date of Birth', 'Nationality', 'Place of Birth', 'Height', 'Market Value'])\n",
    "\n",
    "\n",
    "# Collecting Ddata\n",
    "for row in table.tbody.find_all('tr', class_=\"odd\"):    \n",
    "    # Find all data for each column\n",
    "    columns = row.find_all('td')\n",
    "    \n",
    "    if(columns != []):\n",
    "        rows.append({\n",
    "            'Number' : columns[0].text.strip(),\n",
    "            'Name':columns[3].text.strip(),\n",
    "            'Position': columns[4].text.strip(),\n",
    "            'Date of Birth': columns[5].text.split('(')[0],\n",
    "            'Age': columns[5].text.split('(')[-1].replace(\")\",''),\n",
    "            'Nationality': 'French',\n",
    "            'Place of Birth': columns[8].text.strip(),\n",
    "            'Height' : columns[9].text.strip(), \n",
    "            'Market Value' : columns[10].text.strip()\n",
    "        } )\n",
    "\n",
    "for row in table.tbody.find_all('tr', class_=\"even\"):    \n",
    "    # Find all data for each column\n",
    "    columns = row.find_all('td')\n",
    "    \n",
    "    if(columns != []):\n",
    "        rows.append({\n",
    "            'Number' : columns[0].text.strip(),\n",
    "            'Name':columns[3].text.strip(),\n",
    "            'Position': columns[4].text.strip(),\n",
    "            'Date of Birth': columns[5].text.split('(')[0],\n",
    "            'Age': columns[5].text.split('(')[-1].replace(\")\",''),\n",
    "            'Nationality': 'French',\n",
    "            'Place of Birth': columns[8].text.strip(),\n",
    "            'Height' : columns[9].text.strip(), \n",
    "            'Market Value' : columns[10].text.strip()\n",
    "        } )        \n",
    "\n",
    "\n",
    "\n"
   ]
  },
  {
   "cell_type": "code",
   "execution_count": 313,
   "metadata": {},
   "outputs": [
    {
     "name": "stdout",
     "output_type": "stream",
     "text": [
      "1175\n"
     ]
    }
   ],
   "source": [
    "print(len(rows))"
   ]
  },
  {
   "cell_type": "code",
   "execution_count": 314,
   "metadata": {},
   "outputs": [],
   "source": [
    "df = pd.DataFrame(rows)"
   ]
  },
  {
   "cell_type": "code",
   "execution_count": 315,
   "metadata": {},
   "outputs": [
    {
     "data": {
      "text/html": [
       "<div>\n",
       "<style scoped>\n",
       "    .dataframe tbody tr th:only-of-type {\n",
       "        vertical-align: middle;\n",
       "    }\n",
       "\n",
       "    .dataframe tbody tr th {\n",
       "        vertical-align: top;\n",
       "    }\n",
       "\n",
       "    .dataframe thead th {\n",
       "        text-align: right;\n",
       "    }\n",
       "</style>\n",
       "<table border=\"1\" class=\"dataframe\">\n",
       "  <thead>\n",
       "    <tr style=\"text-align: right;\">\n",
       "      <th></th>\n",
       "      <th>Number</th>\n",
       "      <th>Name</th>\n",
       "      <th>Position</th>\n",
       "      <th>Date of Birth</th>\n",
       "      <th>Age</th>\n",
       "      <th>Nationality</th>\n",
       "      <th>Place of Birth</th>\n",
       "      <th>Height</th>\n",
       "      <th>Market Value</th>\n",
       "    </tr>\n",
       "  </thead>\n",
       "  <tbody>\n",
       "    <tr>\n",
       "      <th>0</th>\n",
       "      <td>16</td>\n",
       "      <td>Jean-Louis Leca</td>\n",
       "      <td>Goalkeeper</td>\n",
       "      <td>Sep 21, 1985</td>\n",
       "      <td>38</td>\n",
       "      <td>French</td>\n",
       "      <td>Bastia</td>\n",
       "      <td>1,80</td>\n",
       "      <td>€200k</td>\n",
       "    </tr>\n",
       "    <tr>\n",
       "      <th>1</th>\n",
       "      <td></td>\n",
       "      <td>Mathieu Suffissais</td>\n",
       "      <td>Goalkeeper</td>\n",
       "      <td>May 30, 1985</td>\n",
       "      <td>38</td>\n",
       "      <td>French</td>\n",
       "      <td>Laval</td>\n",
       "      <td>1,83</td>\n",
       "      <td>-</td>\n",
       "    </tr>\n",
       "    <tr>\n",
       "      <th>2</th>\n",
       "      <td></td>\n",
       "      <td>Gérald Delaporte</td>\n",
       "      <td>Goalkeeper</td>\n",
       "      <td>Dec 18, 1985</td>\n",
       "      <td>38</td>\n",
       "      <td>French</td>\n",
       "      <td></td>\n",
       "      <td></td>\n",
       "      <td>-</td>\n",
       "    </tr>\n",
       "    <tr>\n",
       "      <th>3</th>\n",
       "      <td></td>\n",
       "      <td>Thomas Fedrigo</td>\n",
       "      <td>Goalkeeper</td>\n",
       "      <td>May 10, 1985</td>\n",
       "      <td>38</td>\n",
       "      <td>French</td>\n",
       "      <td>Paray-le-Monial</td>\n",
       "      <td>1,80</td>\n",
       "      <td>-</td>\n",
       "    </tr>\n",
       "    <tr>\n",
       "      <th>4</th>\n",
       "      <td></td>\n",
       "      <td>Florian Piolot</td>\n",
       "      <td>Goalkeeper</td>\n",
       "      <td>Dec 24, 1985</td>\n",
       "      <td>38</td>\n",
       "      <td>French</td>\n",
       "      <td>Pabu</td>\n",
       "      <td>1,86</td>\n",
       "      <td>-</td>\n",
       "    </tr>\n",
       "    <tr>\n",
       "      <th>...</th>\n",
       "      <td>...</td>\n",
       "      <td>...</td>\n",
       "      <td>...</td>\n",
       "      <td>...</td>\n",
       "      <td>...</td>\n",
       "      <td>...</td>\n",
       "      <td>...</td>\n",
       "      <td>...</td>\n",
       "      <td>...</td>\n",
       "    </tr>\n",
       "    <tr>\n",
       "      <th>1170</th>\n",
       "      <td></td>\n",
       "      <td>Lukas Mary</td>\n",
       "      <td>Goalkeeper</td>\n",
       "      <td>Feb 24, 2005</td>\n",
       "      <td>18</td>\n",
       "      <td>French</td>\n",
       "      <td>Chambray-lès-Tours</td>\n",
       "      <td></td>\n",
       "      <td>-</td>\n",
       "    </tr>\n",
       "    <tr>\n",
       "      <th>1171</th>\n",
       "      <td></td>\n",
       "      <td>Khamy Bello</td>\n",
       "      <td>Goalkeeper</td>\n",
       "      <td>Mar 15, 2005</td>\n",
       "      <td>18</td>\n",
       "      <td>French</td>\n",
       "      <td>Rouen</td>\n",
       "      <td></td>\n",
       "      <td>-</td>\n",
       "    </tr>\n",
       "    <tr>\n",
       "      <th>1172</th>\n",
       "      <td></td>\n",
       "      <td>Viali</td>\n",
       "      <td>Goalkeeper</td>\n",
       "      <td>Mar 10, 2005</td>\n",
       "      <td>18</td>\n",
       "      <td>French</td>\n",
       "      <td>Nantes</td>\n",
       "      <td></td>\n",
       "      <td>-</td>\n",
       "    </tr>\n",
       "    <tr>\n",
       "      <th>1173</th>\n",
       "      <td></td>\n",
       "      <td>Louis Petitaud</td>\n",
       "      <td>Goalkeeper</td>\n",
       "      <td>Feb 4, 2005</td>\n",
       "      <td>19</td>\n",
       "      <td>French</td>\n",
       "      <td>Privas</td>\n",
       "      <td></td>\n",
       "      <td>-</td>\n",
       "    </tr>\n",
       "    <tr>\n",
       "      <th>1174</th>\n",
       "      <td></td>\n",
       "      <td>Lucas Droyaux</td>\n",
       "      <td>Goalkeeper</td>\n",
       "      <td>Jan 28, 2005</td>\n",
       "      <td>19</td>\n",
       "      <td>French</td>\n",
       "      <td>Vannes</td>\n",
       "      <td></td>\n",
       "      <td>-</td>\n",
       "    </tr>\n",
       "  </tbody>\n",
       "</table>\n",
       "<p>1175 rows × 9 columns</p>\n",
       "</div>"
      ],
      "text/plain": [
       "     Number                Name    Position  Date of Birth Age Nationality   \n",
       "0        16     Jean-Louis Leca  Goalkeeper  Sep 21, 1985   38      French  \\\n",
       "1            Mathieu Suffissais  Goalkeeper  May 30, 1985   38      French   \n",
       "2              Gérald Delaporte  Goalkeeper  Dec 18, 1985   38      French   \n",
       "3                Thomas Fedrigo  Goalkeeper  May 10, 1985   38      French   \n",
       "4                Florian Piolot  Goalkeeper  Dec 24, 1985   38      French   \n",
       "...     ...                 ...         ...            ...  ..         ...   \n",
       "1170                 Lukas Mary  Goalkeeper  Feb 24, 2005   18      French   \n",
       "1171                Khamy Bello  Goalkeeper  Mar 15, 2005   18      French   \n",
       "1172                      Viali  Goalkeeper  Mar 10, 2005   18      French   \n",
       "1173             Louis Petitaud  Goalkeeper   Feb 4, 2005   19      French   \n",
       "1174              Lucas Droyaux  Goalkeeper  Jan 28, 2005   19      French   \n",
       "\n",
       "          Place of Birth Height Market Value  \n",
       "0                 Bastia   1,80        €200k  \n",
       "1                  Laval   1,83            -  \n",
       "2                                          -  \n",
       "3        Paray-le-Monial   1,80            -  \n",
       "4                   Pabu   1,86            -  \n",
       "...                  ...    ...          ...  \n",
       "1170  Chambray-lès-Tours                   -  \n",
       "1171               Rouen                   -  \n",
       "1172              Nantes                   -  \n",
       "1173              Privas                   -  \n",
       "1174              Vannes                   -  \n",
       "\n",
       "[1175 rows x 9 columns]"
      ]
     },
     "execution_count": 315,
     "metadata": {},
     "output_type": "execute_result"
    }
   ],
   "source": [
    "df"
   ]
  },
  {
   "cell_type": "code",
   "execution_count": 316,
   "metadata": {},
   "outputs": [],
   "source": [
    "df.to_csv(\"../data/france_goalkeepers.csv\", header= True, index=False)"
   ]
  },
  {
   "cell_type": "code",
   "execution_count": null,
   "metadata": {},
   "outputs": [],
   "source": []
  }
 ],
 "metadata": {
  "kernelspec": {
   "display_name": "Python 3",
   "language": "python",
   "name": "python3"
  },
  "language_info": {
   "codemirror_mode": {
    "name": "ipython",
    "version": 3
   },
   "file_extension": ".py",
   "mimetype": "text/x-python",
   "name": "python",
   "nbconvert_exporter": "python",
   "pygments_lexer": "ipython3",
   "version": "3.9.6"
  }
 },
 "nbformat": 4,
 "nbformat_minor": 2
}
