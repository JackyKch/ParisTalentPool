{
 "cells": [
  {
   "cell_type": "markdown",
   "metadata": {},
   "source": [
    "## Imports"
   ]
  },
  {
   "cell_type": "code",
   "execution_count": 1,
   "metadata": {},
   "outputs": [],
   "source": [
    "import pandas as pd"
   ]
  },
  {
   "cell_type": "code",
   "execution_count": 2,
   "metadata": {},
   "outputs": [],
   "source": [
    "df_global = pd.DataFrame"
   ]
  },
  {
   "cell_type": "code",
   "execution_count": 3,
   "metadata": {},
   "outputs": [],
   "source": [
    "df_gk = pd.read_csv(\"../../data/argentina/argentina_goalkeepers.csv\")\n",
    "df_cb = pd.read_csv(\"../../data/argentina/argentina_centerbacks.csv\")\n",
    "df_lb = pd.read_csv(\"../../data/argentina/argentina_leftbacks.csv\")\n",
    "df_rb = pd.read_csv(\"../../data/argentina/argentina_rightbacks.csv\")\n",
    "df_dm = pd.read_csv(\"../../data/argentina/argentina_defensivemidfields.csv\")\n",
    "df_cm = pd.read_csv(\"../../data/argentina/argentina_centralmidfields.csv\")\n",
    "df_rm = pd.read_csv(\"../../data/argentina/argentina_rightmidfields.csv\")\n",
    "df_lm = pd.read_csv(\"../../data/argentina/argentina_leftmidfields.csv\")\n",
    "df_am = pd.read_csv(\"../../data/argentina/argentina_attackingmidfields.csv\")\n",
    "df_lw = pd.read_csv(\"../../data/argentina/argentina_leftwingers.csv\")\n",
    "df_rw = pd.read_csv(\"../../data/argentina/argentina_rightwingers.csv\")\n",
    "df_st = pd.read_csv(\"../../data/argentina/argentina_secondstrikers.csv\")\n",
    "df_cf = pd.read_csv(\"../../data/argentina/argentina_centerforwards.csv\")"
   ]
  },
  {
   "cell_type": "markdown",
   "metadata": {},
   "source": [
    "## Merge all the dataframes"
   ]
  },
  {
   "cell_type": "code",
   "execution_count": 4,
   "metadata": {},
   "outputs": [],
   "source": [
    "df_global = pd.concat([df_gk, df_cb, df_lb, df_rb, df_dm, df_cm, df_rm, df_lm, df_am, df_lw, df_rw, df_st, df_cf],ignore_index=True)"
   ]
  },
  {
   "cell_type": "code",
   "execution_count": 5,
   "metadata": {},
   "outputs": [
    {
     "name": "stdout",
     "output_type": "stream",
     "text": [
      "<class 'pandas.core.frame.DataFrame'>\n",
      "RangeIndex: 6977 entries, 0 to 6976\n",
      "Data columns (total 11 columns):\n",
      " #   Column           Non-Null Count  Dtype  \n",
      "---  ------           --------------  -----  \n",
      " 0   Number           2091 non-null   float64\n",
      " 1   Name             6977 non-null   object \n",
      " 2   Position         6977 non-null   object \n",
      " 3   Date of Birth    6977 non-null   object \n",
      " 4   Age              6976 non-null   object \n",
      " 5   Nationality      6977 non-null   object \n",
      " 6   Birth Country    6977 non-null   object \n",
      " 7   Place of Birth   5928 non-null   object \n",
      " 8   Height           6205 non-null   object \n",
      " 9   Market Value     6977 non-null   object \n",
      " 10  Other Positions  3131 non-null   object \n",
      "dtypes: float64(1), object(10)\n",
      "memory usage: 599.7+ KB\n"
     ]
    }
   ],
   "source": [
    "df_global.info()"
   ]
  },
  {
   "cell_type": "markdown",
   "metadata": {},
   "source": [
    "## Goalkeepers"
   ]
  },
  {
   "cell_type": "code",
   "execution_count": 6,
   "metadata": {},
   "outputs": [
    {
     "name": "stdout",
     "output_type": "stream",
     "text": [
      "<class 'pandas.core.frame.DataFrame'>\n",
      "RangeIndex: 657 entries, 0 to 656\n",
      "Data columns (total 10 columns):\n",
      " #   Column          Non-Null Count  Dtype  \n",
      "---  ------          --------------  -----  \n",
      " 0   Number          178 non-null    float64\n",
      " 1   Name            657 non-null    object \n",
      " 2   Position        657 non-null    object \n",
      " 3   Date of Birth   657 non-null    object \n",
      " 4   Age             657 non-null    object \n",
      " 5   Nationality     657 non-null    object \n",
      " 6   Birth Country   657 non-null    object \n",
      " 7   Place of Birth  525 non-null    object \n",
      " 8   Height          549 non-null    object \n",
      " 9   Market Value    657 non-null    object \n",
      "dtypes: float64(1), object(9)\n",
      "memory usage: 51.5+ KB\n"
     ]
    }
   ],
   "source": [
    "df_gk.info()"
   ]
  },
  {
   "cell_type": "code",
   "execution_count": 7,
   "metadata": {},
   "outputs": [
    {
     "name": "stdout",
     "output_type": "stream",
     "text": [
      "9.41665472266017\n"
     ]
    }
   ],
   "source": [
    "print(len(df_gk)/len(df_global)*100)"
   ]
  },
  {
   "cell_type": "markdown",
   "metadata": {},
   "source": [
    "## Defenders"
   ]
  },
  {
   "cell_type": "code",
   "execution_count": 8,
   "metadata": {},
   "outputs": [],
   "source": [
    "df_defenders = pd.concat([ df_cb, df_lb, df_rb],ignore_index=True)"
   ]
  },
  {
   "cell_type": "code",
   "execution_count": 9,
   "metadata": {},
   "outputs": [
    {
     "name": "stdout",
     "output_type": "stream",
     "text": [
      "<class 'pandas.core.frame.DataFrame'>\n",
      "RangeIndex: 2073 entries, 0 to 2072\n",
      "Data columns (total 11 columns):\n",
      " #   Column           Non-Null Count  Dtype  \n",
      "---  ------           --------------  -----  \n",
      " 0   Number           615 non-null    float64\n",
      " 1   Name             2073 non-null   object \n",
      " 2   Position         2073 non-null   object \n",
      " 3   Date of Birth    2073 non-null   object \n",
      " 4   Age              2073 non-null   object \n",
      " 5   Nationality      2073 non-null   object \n",
      " 6   Birth Country    2073 non-null   object \n",
      " 7   Place of Birth   1729 non-null   object \n",
      " 8   Other Positions  834 non-null    object \n",
      " 9   Height           1844 non-null   object \n",
      " 10  Market Value     2073 non-null   object \n",
      "dtypes: float64(1), object(10)\n",
      "memory usage: 178.3+ KB\n"
     ]
    }
   ],
   "source": [
    "df_defenders.info()"
   ]
  },
  {
   "cell_type": "code",
   "execution_count": 10,
   "metadata": {},
   "outputs": [
    {
     "name": "stdout",
     "output_type": "stream",
     "text": [
      "29.711910563279346\n"
     ]
    }
   ],
   "source": [
    "print(len(df_defenders)/len(df_global)*100)"
   ]
  },
  {
   "cell_type": "markdown",
   "metadata": {},
   "source": [
    "## Midfielders"
   ]
  },
  {
   "cell_type": "code",
   "execution_count": 11,
   "metadata": {},
   "outputs": [],
   "source": [
    "df_midfielders = pd.concat([df_dm, df_cm, df_rm, df_lm, df_am],ignore_index=True)"
   ]
  },
  {
   "cell_type": "code",
   "execution_count": 12,
   "metadata": {},
   "outputs": [
    {
     "name": "stdout",
     "output_type": "stream",
     "text": [
      "<class 'pandas.core.frame.DataFrame'>\n",
      "RangeIndex: 2313 entries, 0 to 2312\n",
      "Data columns (total 11 columns):\n",
      " #   Column           Non-Null Count  Dtype  \n",
      "---  ------           --------------  -----  \n",
      " 0   Number           652 non-null    float64\n",
      " 1   Name             2313 non-null   object \n",
      " 2   Position         2313 non-null   object \n",
      " 3   Date of Birth    2313 non-null   object \n",
      " 4   Age              2312 non-null   object \n",
      " 5   Nationality      2313 non-null   object \n",
      " 6   Birth Country    2313 non-null   object \n",
      " 7   Place of Birth   1981 non-null   object \n",
      " 8   Other Positions  1352 non-null   object \n",
      " 9   Height           2038 non-null   object \n",
      " 10  Market Value     2313 non-null   object \n",
      "dtypes: float64(1), object(10)\n",
      "memory usage: 198.9+ KB\n"
     ]
    }
   ],
   "source": [
    "df_midfielders.info()"
   ]
  },
  {
   "cell_type": "code",
   "execution_count": 13,
   "metadata": {},
   "outputs": [
    {
     "name": "stdout",
     "output_type": "stream",
     "text": [
      "33.15178443457073\n"
     ]
    }
   ],
   "source": [
    "print(len(df_midfielders)/len(df_global)*100)"
   ]
  },
  {
   "cell_type": "markdown",
   "metadata": {},
   "source": [
    "## Strikers"
   ]
  },
  {
   "cell_type": "code",
   "execution_count": 14,
   "metadata": {},
   "outputs": [],
   "source": [
    "df_strikers = pd.concat([df_lw, df_rw, df_st, df_cf],ignore_index=True)"
   ]
  },
  {
   "cell_type": "code",
   "execution_count": 15,
   "metadata": {},
   "outputs": [
    {
     "name": "stdout",
     "output_type": "stream",
     "text": [
      "<class 'pandas.core.frame.DataFrame'>\n",
      "RangeIndex: 1934 entries, 0 to 1933\n",
      "Data columns (total 11 columns):\n",
      " #   Column           Non-Null Count  Dtype  \n",
      "---  ------           --------------  -----  \n",
      " 0   Number           646 non-null    float64\n",
      " 1   Name             1934 non-null   object \n",
      " 2   Position         1934 non-null   object \n",
      " 3   Date of Birth    1934 non-null   object \n",
      " 4   Age              1934 non-null   object \n",
      " 5   Nationality      1934 non-null   object \n",
      " 6   Birth Country    1934 non-null   object \n",
      " 7   Place of Birth   1693 non-null   object \n",
      " 8   Other Positions  945 non-null    object \n",
      " 9   Height           1774 non-null   object \n",
      " 10  Market Value     1934 non-null   object \n",
      "dtypes: float64(1), object(10)\n",
      "memory usage: 166.3+ KB\n"
     ]
    }
   ],
   "source": [
    "df_strikers.info()"
   ]
  },
  {
   "cell_type": "code",
   "execution_count": 16,
   "metadata": {},
   "outputs": [
    {
     "name": "stdout",
     "output_type": "stream",
     "text": [
      "27.719650279489755\n"
     ]
    }
   ],
   "source": [
    "print(len(df_strikers)/len(df_global)*100)"
   ]
  },
  {
   "cell_type": "code",
   "execution_count": 17,
   "metadata": {},
   "outputs": [
    {
     "name": "stdout",
     "output_type": "stream",
     "text": [
      "<class 'pandas.core.frame.DataFrame'>\n",
      "RangeIndex: 6977 entries, 0 to 6976\n",
      "Data columns (total 11 columns):\n",
      " #   Column           Non-Null Count  Dtype  \n",
      "---  ------           --------------  -----  \n",
      " 0   Number           2091 non-null   float64\n",
      " 1   Name             6977 non-null   object \n",
      " 2   Position         6977 non-null   object \n",
      " 3   Date of Birth    6977 non-null   object \n",
      " 4   Age              6976 non-null   object \n",
      " 5   Nationality      6977 non-null   object \n",
      " 6   Birth Country    6977 non-null   object \n",
      " 7   Place of Birth   5928 non-null   object \n",
      " 8   Height           6205 non-null   object \n",
      " 9   Market Value     6977 non-null   object \n",
      " 10  Other Positions  3131 non-null   object \n",
      "dtypes: float64(1), object(10)\n",
      "memory usage: 599.7+ KB\n"
     ]
    }
   ],
   "source": [
    "df_global.info()"
   ]
  },
  {
   "cell_type": "markdown",
   "metadata": {},
   "source": [
    "## Birth Year Analysis"
   ]
  },
  {
   "cell_type": "code",
   "execution_count": 18,
   "metadata": {},
   "outputs": [
    {
     "name": "stdout",
     "output_type": "stream",
     "text": [
      "<class 'pandas.core.frame.DataFrame'>\n",
      "Index: 15 entries, 247 to 6713\n",
      "Data columns (total 11 columns):\n",
      " #   Column           Non-Null Count  Dtype  \n",
      "---  ------           --------------  -----  \n",
      " 0   Number           7 non-null      float64\n",
      " 1   Name             15 non-null     object \n",
      " 2   Position         15 non-null     object \n",
      " 3   Date of Birth    15 non-null     object \n",
      " 4   Age              14 non-null     object \n",
      " 5   Nationality      15 non-null     object \n",
      " 6   Birth Country    15 non-null     object \n",
      " 7   Place of Birth   12 non-null     object \n",
      " 8   Height           11 non-null     object \n",
      " 9   Market Value     15 non-null     object \n",
      " 10  Other Positions  9 non-null      object \n",
      "dtypes: float64(1), object(10)\n",
      "memory usage: 1.4+ KB\n"
     ]
    }
   ],
   "source": [
    "df_global[df_global[\"Date of Birth\"]==\"N/A \"].info()"
   ]
  },
  {
   "cell_type": "code",
   "execution_count": 19,
   "metadata": {},
   "outputs": [],
   "source": [
    "df_birth = df_global[df_global[\"Date of Birth\"]!=\"N/A \"]"
   ]
  },
  {
   "cell_type": "code",
   "execution_count": 20,
   "metadata": {},
   "outputs": [
    {
     "name": "stdout",
     "output_type": "stream",
     "text": [
      "<class 'pandas.core.frame.DataFrame'>\n",
      "Index: 6962 entries, 0 to 6976\n",
      "Data columns (total 11 columns):\n",
      " #   Column           Non-Null Count  Dtype  \n",
      "---  ------           --------------  -----  \n",
      " 0   Number           2084 non-null   float64\n",
      " 1   Name             6962 non-null   object \n",
      " 2   Position         6962 non-null   object \n",
      " 3   Date of Birth    6962 non-null   object \n",
      " 4   Age              6962 non-null   object \n",
      " 5   Nationality      6962 non-null   object \n",
      " 6   Birth Country    6962 non-null   object \n",
      " 7   Place of Birth   5916 non-null   object \n",
      " 8   Height           6194 non-null   object \n",
      " 9   Market Value     6962 non-null   object \n",
      " 10  Other Positions  3122 non-null   object \n",
      "dtypes: float64(1), object(10)\n",
      "memory usage: 652.7+ KB\n"
     ]
    }
   ],
   "source": [
    "df_birth.info()"
   ]
  },
  {
   "cell_type": "code",
   "execution_count": 21,
   "metadata": {},
   "outputs": [
    {
     "data": {
      "text/html": [
       "<div>\n",
       "<style scoped>\n",
       "    .dataframe tbody tr th:only-of-type {\n",
       "        vertical-align: middle;\n",
       "    }\n",
       "\n",
       "    .dataframe tbody tr th {\n",
       "        vertical-align: top;\n",
       "    }\n",
       "\n",
       "    .dataframe thead th {\n",
       "        text-align: right;\n",
       "    }\n",
       "</style>\n",
       "<table border=\"1\" class=\"dataframe\">\n",
       "  <thead>\n",
       "    <tr style=\"text-align: right;\">\n",
       "      <th></th>\n",
       "      <th>Number</th>\n",
       "      <th>Name</th>\n",
       "      <th>Position</th>\n",
       "      <th>Date of Birth</th>\n",
       "      <th>Age</th>\n",
       "      <th>Nationality</th>\n",
       "      <th>Birth Country</th>\n",
       "      <th>Place of Birth</th>\n",
       "      <th>Height</th>\n",
       "      <th>Market Value</th>\n",
       "      <th>Other Positions</th>\n",
       "    </tr>\n",
       "  </thead>\n",
       "  <tbody>\n",
       "    <tr>\n",
       "      <th>0</th>\n",
       "      <td>1.0</td>\n",
       "      <td>Cristian Álvarez</td>\n",
       "      <td>Goalkeeper</td>\n",
       "      <td>Nov 13, 1985</td>\n",
       "      <td>38</td>\n",
       "      <td>['Argentina', 'Spain']</td>\n",
       "      <td>Argentina</td>\n",
       "      <td>Rosario</td>\n",
       "      <td>1,86</td>\n",
       "      <td>€100k</td>\n",
       "      <td>NaN</td>\n",
       "    </tr>\n",
       "    <tr>\n",
       "      <th>1</th>\n",
       "      <td>NaN</td>\n",
       "      <td>Nereo Champagne</td>\n",
       "      <td>Goalkeeper</td>\n",
       "      <td>Jan 20, 1985</td>\n",
       "      <td>39</td>\n",
       "      <td>['Argentina', 'Italy']</td>\n",
       "      <td>Argentina</td>\n",
       "      <td>Salto</td>\n",
       "      <td>1,88</td>\n",
       "      <td>€10k</td>\n",
       "      <td>NaN</td>\n",
       "    </tr>\n",
       "    <tr>\n",
       "      <th>2</th>\n",
       "      <td>1.0</td>\n",
       "      <td>Rodrigo Pombo</td>\n",
       "      <td>Goalkeeper</td>\n",
       "      <td>Jun 16, 1985</td>\n",
       "      <td>38</td>\n",
       "      <td>['Argentina']</td>\n",
       "      <td>Argentina</td>\n",
       "      <td>Córdoba</td>\n",
       "      <td>NaN</td>\n",
       "      <td>-</td>\n",
       "      <td>NaN</td>\n",
       "    </tr>\n",
       "    <tr>\n",
       "      <th>3</th>\n",
       "      <td>NaN</td>\n",
       "      <td>Gastón Folgar</td>\n",
       "      <td>Goalkeeper</td>\n",
       "      <td>Mar 7, 1985</td>\n",
       "      <td>39</td>\n",
       "      <td>['Argentina']</td>\n",
       "      <td>Argentina</td>\n",
       "      <td>Buenos Aires</td>\n",
       "      <td>NaN</td>\n",
       "      <td>-</td>\n",
       "      <td>NaN</td>\n",
       "    </tr>\n",
       "    <tr>\n",
       "      <th>4</th>\n",
       "      <td>NaN</td>\n",
       "      <td>Ángel Pedroso</td>\n",
       "      <td>Goalkeeper</td>\n",
       "      <td>Jun 18, 1985</td>\n",
       "      <td>38</td>\n",
       "      <td>['Argentina']</td>\n",
       "      <td>Argentina</td>\n",
       "      <td>Formosa</td>\n",
       "      <td>NaN</td>\n",
       "      <td>-</td>\n",
       "      <td>NaN</td>\n",
       "    </tr>\n",
       "  </tbody>\n",
       "</table>\n",
       "</div>"
      ],
      "text/plain": [
       "   Number              Name    Position  Date of Birth Age   \n",
       "0     1.0  Cristian Álvarez  Goalkeeper  Nov 13, 1985   38  \\\n",
       "1     NaN   Nereo Champagne  Goalkeeper  Jan 20, 1985   39   \n",
       "2     1.0     Rodrigo Pombo  Goalkeeper  Jun 16, 1985   38   \n",
       "3     NaN     Gastón Folgar  Goalkeeper   Mar 7, 1985   39   \n",
       "4     NaN     Ángel Pedroso  Goalkeeper  Jun 18, 1985   38   \n",
       "\n",
       "              Nationality Birth Country Place of Birth Height Market Value   \n",
       "0  ['Argentina', 'Spain']     Argentina        Rosario   1,86        €100k  \\\n",
       "1  ['Argentina', 'Italy']     Argentina          Salto   1,88         €10k   \n",
       "2           ['Argentina']     Argentina        Córdoba    NaN            -   \n",
       "3           ['Argentina']     Argentina   Buenos Aires    NaN            -   \n",
       "4           ['Argentina']     Argentina        Formosa    NaN            -   \n",
       "\n",
       "  Other Positions  \n",
       "0             NaN  \n",
       "1             NaN  \n",
       "2             NaN  \n",
       "3             NaN  \n",
       "4             NaN  "
      ]
     },
     "execution_count": 21,
     "metadata": {},
     "output_type": "execute_result"
    }
   ],
   "source": [
    "df_birth.head()"
   ]
  },
  {
   "cell_type": "code",
   "execution_count": null,
   "metadata": {},
   "outputs": [],
   "source": [
    "df_birth[['Month','Day','Year']] = df_birth['Date of Birth'].str.split(expand=True)"
   ]
  },
  {
   "cell_type": "code",
   "execution_count": 23,
   "metadata": {},
   "outputs": [
    {
     "data": {
      "text/html": [
       "<div>\n",
       "<style scoped>\n",
       "    .dataframe tbody tr th:only-of-type {\n",
       "        vertical-align: middle;\n",
       "    }\n",
       "\n",
       "    .dataframe tbody tr th {\n",
       "        vertical-align: top;\n",
       "    }\n",
       "\n",
       "    .dataframe thead th {\n",
       "        text-align: right;\n",
       "    }\n",
       "</style>\n",
       "<table border=\"1\" class=\"dataframe\">\n",
       "  <thead>\n",
       "    <tr style=\"text-align: right;\">\n",
       "      <th></th>\n",
       "      <th>Number</th>\n",
       "      <th>Name</th>\n",
       "      <th>Position</th>\n",
       "      <th>Date of Birth</th>\n",
       "      <th>Age</th>\n",
       "      <th>Nationality</th>\n",
       "      <th>Birth Country</th>\n",
       "      <th>Place of Birth</th>\n",
       "      <th>Height</th>\n",
       "      <th>Market Value</th>\n",
       "      <th>Other Positions</th>\n",
       "      <th>Month</th>\n",
       "      <th>Day</th>\n",
       "      <th>Year</th>\n",
       "    </tr>\n",
       "  </thead>\n",
       "  <tbody>\n",
       "    <tr>\n",
       "      <th>6972</th>\n",
       "      <td>NaN</td>\n",
       "      <td>Alexis González</td>\n",
       "      <td>Centre-Forward</td>\n",
       "      <td>Jan 13, 2005</td>\n",
       "      <td>19</td>\n",
       "      <td>['Argentina']</td>\n",
       "      <td>Argentina</td>\n",
       "      <td>Posadas</td>\n",
       "      <td>1,82</td>\n",
       "      <td>-</td>\n",
       "      <td>NaN</td>\n",
       "      <td>Jan</td>\n",
       "      <td>13,</td>\n",
       "      <td>2005</td>\n",
       "    </tr>\n",
       "    <tr>\n",
       "      <th>6973</th>\n",
       "      <td>16.0</td>\n",
       "      <td>Santiago Hidalgo</td>\n",
       "      <td>Centre-Forward</td>\n",
       "      <td>Feb 17, 2005</td>\n",
       "      <td>19</td>\n",
       "      <td>['Argentina']</td>\n",
       "      <td>Argentina</td>\n",
       "      <td>Santiago del Estero</td>\n",
       "      <td>1,71</td>\n",
       "      <td>€400k</td>\n",
       "      <td>NaN</td>\n",
       "      <td>Feb</td>\n",
       "      <td>17,</td>\n",
       "      <td>2005</td>\n",
       "    </tr>\n",
       "    <tr>\n",
       "      <th>6974</th>\n",
       "      <td>44.0</td>\n",
       "      <td>Matías Hernández</td>\n",
       "      <td>Centre-Forward</td>\n",
       "      <td>Jan 6, 2005</td>\n",
       "      <td>19</td>\n",
       "      <td>['Argentina']</td>\n",
       "      <td>Argentina</td>\n",
       "      <td>Carlos Casares</td>\n",
       "      <td>1,78</td>\n",
       "      <td>€25k</td>\n",
       "      <td>RW   LW</td>\n",
       "      <td>Jan</td>\n",
       "      <td>6,</td>\n",
       "      <td>2005</td>\n",
       "    </tr>\n",
       "    <tr>\n",
       "      <th>6975</th>\n",
       "      <td>NaN</td>\n",
       "      <td>Felipe Gorla</td>\n",
       "      <td>Centre-Forward</td>\n",
       "      <td>May 31, 2005</td>\n",
       "      <td>18</td>\n",
       "      <td>['Argentina']</td>\n",
       "      <td>Argentina</td>\n",
       "      <td>Ciudad Jardín</td>\n",
       "      <td>1,85</td>\n",
       "      <td>-</td>\n",
       "      <td>NaN</td>\n",
       "      <td>May</td>\n",
       "      <td>31,</td>\n",
       "      <td>2005</td>\n",
       "    </tr>\n",
       "    <tr>\n",
       "      <th>6976</th>\n",
       "      <td>18.0</td>\n",
       "      <td>Mauricio Roldán</td>\n",
       "      <td>Centre-Forward</td>\n",
       "      <td>Feb 10, 2005</td>\n",
       "      <td>19</td>\n",
       "      <td>['Argentina']</td>\n",
       "      <td>Argentina</td>\n",
       "      <td>Llavallol</td>\n",
       "      <td>1,81</td>\n",
       "      <td>-</td>\n",
       "      <td>NaN</td>\n",
       "      <td>Feb</td>\n",
       "      <td>10,</td>\n",
       "      <td>2005</td>\n",
       "    </tr>\n",
       "  </tbody>\n",
       "</table>\n",
       "</div>"
      ],
      "text/plain": [
       "      Number              Name        Position  Date of Birth Age   \n",
       "6972     NaN   Alexis González  Centre-Forward  Jan 13, 2005   19  \\\n",
       "6973    16.0  Santiago Hidalgo  Centre-Forward  Feb 17, 2005   19   \n",
       "6974    44.0  Matías Hernández  Centre-Forward   Jan 6, 2005   19   \n",
       "6975     NaN      Felipe Gorla  Centre-Forward  May 31, 2005   18   \n",
       "6976    18.0   Mauricio Roldán  Centre-Forward  Feb 10, 2005   19   \n",
       "\n",
       "        Nationality Birth Country       Place of Birth Height Market Value   \n",
       "6972  ['Argentina']     Argentina              Posadas   1,82            -  \\\n",
       "6973  ['Argentina']     Argentina  Santiago del Estero   1,71        €400k   \n",
       "6974  ['Argentina']     Argentina       Carlos Casares   1,78         €25k   \n",
       "6975  ['Argentina']     Argentina        Ciudad Jardín   1,85            -   \n",
       "6976  ['Argentina']     Argentina            Llavallol   1,81            -   \n",
       "\n",
       "     Other Positions Month  Day  Year  \n",
       "6972             NaN   Jan  13,  2005  \n",
       "6973             NaN   Feb  17,  2005  \n",
       "6974         RW   LW   Jan   6,  2005  \n",
       "6975             NaN   May  31,  2005  \n",
       "6976             NaN   Feb  10,  2005  "
      ]
     },
     "execution_count": 23,
     "metadata": {},
     "output_type": "execute_result"
    }
   ],
   "source": [
    "df_birth.tail()"
   ]
  },
  {
   "cell_type": "code",
   "execution_count": 24,
   "metadata": {},
   "outputs": [
    {
     "data": {
      "text/plain": [
       "Year\n",
       "1985    271\n",
       "1986    272\n",
       "1987    300\n",
       "1988    322\n",
       "1989    292\n",
       "1990    328\n",
       "1991    297\n",
       "1992    332\n",
       "1993    354\n",
       "1994    315\n",
       "1995    419\n",
       "1996    406\n",
       "1997    427\n",
       "1998    461\n",
       "1999    462\n",
       "2000    476\n",
       "2001    416\n",
       "2002    328\n",
       "2003    263\n",
       "2004    162\n",
       "2005     59\n",
       "Name: Name, dtype: int64"
      ]
     },
     "execution_count": 24,
     "metadata": {},
     "output_type": "execute_result"
    }
   ],
   "source": [
    "df_birth.groupby(['Year']).count().Name"
   ]
  },
  {
   "cell_type": "code",
   "execution_count": 25,
   "metadata": {},
   "outputs": [],
   "source": [
    "#df_global.to_csv(\"../../data/argentina/argentina_global.csv\", header= True, index=False)"
   ]
  }
 ],
 "metadata": {
  "kernelspec": {
   "display_name": "Python 3",
   "language": "python",
   "name": "python3"
  },
  "language_info": {
   "codemirror_mode": {
    "name": "ipython",
    "version": 3
   },
   "file_extension": ".py",
   "mimetype": "text/x-python",
   "name": "python",
   "nbconvert_exporter": "python",
   "pygments_lexer": "ipython3",
   "version": "3.9.6"
  }
 },
 "nbformat": 4,
 "nbformat_minor": 2
}
