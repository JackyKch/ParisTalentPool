{
 "cells": [
  {
   "cell_type": "markdown",
   "metadata": {},
   "source": [
    "## Imports"
   ]
  },
  {
   "cell_type": "code",
   "execution_count": 1,
   "metadata": {},
   "outputs": [],
   "source": [
    "import pandas as pd"
   ]
  },
  {
   "cell_type": "code",
   "execution_count": 2,
   "metadata": {},
   "outputs": [],
   "source": [
    "df_global = pd.DataFrame"
   ]
  },
  {
   "cell_type": "code",
   "execution_count": 3,
   "metadata": {},
   "outputs": [],
   "source": [
    "df_gk = pd.read_csv(\"../../data/argentina/argentina_goalkeepers.csv\")\n",
    "df_cb = pd.read_csv(\"../../data/argentina/argentina_centerbacks.csv\")\n",
    "df_lb = pd.read_csv(\"../../data/argentina/argentina_leftbacks.csv\")\n",
    "df_rb = pd.read_csv(\"../../data/argentina/argentina_rightbacks.csv\")\n",
    "df_dm = pd.read_csv(\"../../data/argentina/argentina_defensivemidfields.csv\")\n",
    "df_cm = pd.read_csv(\"../../data/argentina/argentina_centralmidfields.csv\")\n",
    "df_rm = pd.read_csv(\"../../data/argentina/argentina_rightmidfields.csv\")\n",
    "df_lm = pd.read_csv(\"../../data/argentina/argentina_leftmidfields.csv\")\n",
    "df_am = pd.read_csv(\"../../data/argentina/argentina_attackingmidfields.csv\")\n",
    "df_lw = pd.read_csv(\"../../data/argentina/argentina_leftwingers.csv\")\n",
    "df_rw = pd.read_csv(\"../../data/argentina/argentina_rightwingers.csv\")\n",
    "df_st = pd.read_csv(\"../../data/argentina/argentina_secondstrikers.csv\")\n",
    "df_cf = pd.read_csv(\"../../data/argentina/argentina_centerforwards.csv\")"
   ]
  },
  {
   "cell_type": "markdown",
   "metadata": {},
   "source": [
    "## Merge all the dataframes"
   ]
  },
  {
   "cell_type": "code",
   "execution_count": 4,
   "metadata": {},
   "outputs": [],
   "source": [
    "df_global = pd.concat([df_gk, df_cb, df_lb, df_rb, df_dm, df_cm, df_rm, df_lm, df_am, df_lw, df_rw, df_st, df_cf],ignore_index=True)"
   ]
  },
  {
   "cell_type": "code",
   "execution_count": 5,
   "metadata": {},
   "outputs": [
    {
     "name": "stdout",
     "output_type": "stream",
     "text": [
      "<class 'pandas.core.frame.DataFrame'>\n",
      "RangeIndex: 6977 entries, 0 to 6976\n",
      "Data columns (total 11 columns):\n",
      " #   Column           Non-Null Count  Dtype  \n",
      "---  ------           --------------  -----  \n",
      " 0   Number           2091 non-null   float64\n",
      " 1   Name             6977 non-null   object \n",
      " 2   Position         6977 non-null   object \n",
      " 3   Date of Birth    6977 non-null   object \n",
      " 4   Age              6976 non-null   object \n",
      " 5   Nationality      6977 non-null   object \n",
      " 6   Birth Country    6977 non-null   object \n",
      " 7   Place of Birth   5928 non-null   object \n",
      " 8   Height           6205 non-null   object \n",
      " 9   Market Value     6977 non-null   object \n",
      " 10  Other Positions  3131 non-null   object \n",
      "dtypes: float64(1), object(10)\n",
      "memory usage: 599.7+ KB\n"
     ]
    }
   ],
   "source": [
    "df_global.info()"
   ]
  },
  {
   "cell_type": "markdown",
   "metadata": {},
   "source": [
    "## Goalkeepers"
   ]
  },
  {
   "cell_type": "code",
   "execution_count": 6,
   "metadata": {},
   "outputs": [
    {
     "name": "stdout",
     "output_type": "stream",
     "text": [
      "<class 'pandas.core.frame.DataFrame'>\n",
      "RangeIndex: 657 entries, 0 to 656\n",
      "Data columns (total 10 columns):\n",
      " #   Column          Non-Null Count  Dtype  \n",
      "---  ------          --------------  -----  \n",
      " 0   Number          178 non-null    float64\n",
      " 1   Name            657 non-null    object \n",
      " 2   Position        657 non-null    object \n",
      " 3   Date of Birth   657 non-null    object \n",
      " 4   Age             657 non-null    object \n",
      " 5   Nationality     657 non-null    object \n",
      " 6   Birth Country   657 non-null    object \n",
      " 7   Place of Birth  525 non-null    object \n",
      " 8   Height          549 non-null    object \n",
      " 9   Market Value    657 non-null    object \n",
      "dtypes: float64(1), object(9)\n",
      "memory usage: 51.5+ KB\n"
     ]
    }
   ],
   "source": [
    "df_gk.info()"
   ]
  },
  {
   "cell_type": "code",
   "execution_count": 7,
   "metadata": {},
   "outputs": [
    {
     "name": "stdout",
     "output_type": "stream",
     "text": [
      "9.41665472266017\n"
     ]
    }
   ],
   "source": [
    "print(len(df_gk)/len(df_global)*100)"
   ]
  },
  {
   "cell_type": "markdown",
   "metadata": {},
   "source": [
    "## Defenders"
   ]
  },
  {
   "cell_type": "code",
   "execution_count": 8,
   "metadata": {},
   "outputs": [],
   "source": [
    "df_defenders = pd.concat([ df_cb, df_lb, df_rb],ignore_index=True)"
   ]
  },
  {
   "cell_type": "code",
   "execution_count": 9,
   "metadata": {},
   "outputs": [
    {
     "name": "stdout",
     "output_type": "stream",
     "text": [
      "<class 'pandas.core.frame.DataFrame'>\n",
      "RangeIndex: 2073 entries, 0 to 2072\n",
      "Data columns (total 11 columns):\n",
      " #   Column           Non-Null Count  Dtype  \n",
      "---  ------           --------------  -----  \n",
      " 0   Number           615 non-null    float64\n",
      " 1   Name             2073 non-null   object \n",
      " 2   Position         2073 non-null   object \n",
      " 3   Date of Birth    2073 non-null   object \n",
      " 4   Age              2073 non-null   object \n",
      " 5   Nationality      2073 non-null   object \n",
      " 6   Birth Country    2073 non-null   object \n",
      " 7   Place of Birth   1729 non-null   object \n",
      " 8   Other Positions  834 non-null    object \n",
      " 9   Height           1844 non-null   object \n",
      " 10  Market Value     2073 non-null   object \n",
      "dtypes: float64(1), object(10)\n",
      "memory usage: 178.3+ KB\n"
     ]
    }
   ],
   "source": [
    "df_defenders.info()"
   ]
  },
  {
   "cell_type": "code",
   "execution_count": 10,
   "metadata": {},
   "outputs": [
    {
     "name": "stdout",
     "output_type": "stream",
     "text": [
      "29.711910563279346\n"
     ]
    }
   ],
   "source": [
    "print(len(df_defenders)/len(df_global)*100)"
   ]
  },
  {
   "cell_type": "markdown",
   "metadata": {},
   "source": [
    "## Midfielders"
   ]
  },
  {
   "cell_type": "code",
   "execution_count": 11,
   "metadata": {},
   "outputs": [],
   "source": [
    "df_midfielders = pd.concat([df_dm, df_cm, df_rm, df_lm, df_am],ignore_index=True)"
   ]
  },
  {
   "cell_type": "code",
   "execution_count": 12,
   "metadata": {},
   "outputs": [
    {
     "name": "stdout",
     "output_type": "stream",
     "text": [
      "<class 'pandas.core.frame.DataFrame'>\n",
      "RangeIndex: 2313 entries, 0 to 2312\n",
      "Data columns (total 11 columns):\n",
      " #   Column           Non-Null Count  Dtype  \n",
      "---  ------           --------------  -----  \n",
      " 0   Number           652 non-null    float64\n",
      " 1   Name             2313 non-null   object \n",
      " 2   Position         2313 non-null   object \n",
      " 3   Date of Birth    2313 non-null   object \n",
      " 4   Age              2312 non-null   object \n",
      " 5   Nationality      2313 non-null   object \n",
      " 6   Birth Country    2313 non-null   object \n",
      " 7   Place of Birth   1981 non-null   object \n",
      " 8   Other Positions  1352 non-null   object \n",
      " 9   Height           2038 non-null   object \n",
      " 10  Market Value     2313 non-null   object \n",
      "dtypes: float64(1), object(10)\n",
      "memory usage: 198.9+ KB\n"
     ]
    }
   ],
   "source": [
    "df_midfielders.info()"
   ]
  },
  {
   "cell_type": "code",
   "execution_count": 13,
   "metadata": {},
   "outputs": [
    {
     "name": "stdout",
     "output_type": "stream",
     "text": [
      "33.15178443457073\n"
     ]
    }
   ],
   "source": [
    "print(len(df_midfielders)/len(df_global)*100)"
   ]
  },
  {
   "cell_type": "markdown",
   "metadata": {},
   "source": [
    "## Strikers"
   ]
  },
  {
   "cell_type": "code",
   "execution_count": 14,
   "metadata": {},
   "outputs": [],
   "source": [
    "df_strikers = pd.concat([df_lw, df_rw, df_st, df_cf],ignore_index=True)"
   ]
  },
  {
   "cell_type": "code",
   "execution_count": 15,
   "metadata": {},
   "outputs": [
    {
     "name": "stdout",
     "output_type": "stream",
     "text": [
      "<class 'pandas.core.frame.DataFrame'>\n",
      "RangeIndex: 1934 entries, 0 to 1933\n",
      "Data columns (total 11 columns):\n",
      " #   Column           Non-Null Count  Dtype  \n",
      "---  ------           --------------  -----  \n",
      " 0   Number           646 non-null    float64\n",
      " 1   Name             1934 non-null   object \n",
      " 2   Position         1934 non-null   object \n",
      " 3   Date of Birth    1934 non-null   object \n",
      " 4   Age              1934 non-null   object \n",
      " 5   Nationality      1934 non-null   object \n",
      " 6   Birth Country    1934 non-null   object \n",
      " 7   Place of Birth   1693 non-null   object \n",
      " 8   Other Positions  945 non-null    object \n",
      " 9   Height           1774 non-null   object \n",
      " 10  Market Value     1934 non-null   object \n",
      "dtypes: float64(1), object(10)\n",
      "memory usage: 166.3+ KB\n"
     ]
    }
   ],
   "source": [
    "df_strikers.info()"
   ]
  },
  {
   "cell_type": "code",
   "execution_count": 16,
   "metadata": {},
   "outputs": [
    {
     "name": "stdout",
     "output_type": "stream",
     "text": [
      "27.719650279489755\n"
     ]
    }
   ],
   "source": [
    "print(len(df_strikers)/len(df_global)*100)"
   ]
  }
 ],
 "metadata": {
  "kernelspec": {
   "display_name": "Python 3",
   "language": "python",
   "name": "python3"
  },
  "language_info": {
   "codemirror_mode": {
    "name": "ipython",
    "version": 3
   },
   "file_extension": ".py",
   "mimetype": "text/x-python",
   "name": "python",
   "nbconvert_exporter": "python",
   "pygments_lexer": "ipython3",
   "version": "3.9.6"
  }
 },
 "nbformat": 4,
 "nbformat_minor": 2
}
