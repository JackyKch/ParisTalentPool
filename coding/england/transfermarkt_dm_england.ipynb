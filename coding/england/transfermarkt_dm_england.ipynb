{
 "cells": [
  {
   "cell_type": "markdown",
   "metadata": {},
   "source": [
    "# Transfermarkt scrapping with Beautiful Soup & Selenium"
   ]
  },
  {
   "cell_type": "markdown",
   "metadata": {},
   "source": [
    "## Imports"
   ]
  },
  {
   "cell_type": "code",
   "execution_count": null,
   "metadata": {},
   "outputs": [],
   "source": [
    "import re\n",
    "import requests\n",
    "from bs4 import BeautifulSoup\n",
    "import pandas as pd\n",
    "from selenium import webdriver\n",
    "import time\n",
    "from selenium.webdriver.common.keys import Keys\n",
    "from selenium.webdriver.common.by import By"
   ]
  },
  {
   "cell_type": "markdown",
   "metadata": {},
   "source": [
    "## Webdriver options"
   ]
  },
  {
   "cell_type": "code",
   "execution_count": null,
   "metadata": {},
   "outputs": [],
   "source": [
    "options = webdriver.ChromeOptions()\n",
    "options.add_argument('--ignore-certificate-errors')\n",
    "options.add_argument('--incognito')\n",
    "#options.add_argument('--headless')\n",
    "\n",
    "driver = webdriver.Chrome(\"../chromedriver-mac-arm64/chromedriver\",options= options)\n",
    "driver.get(\"https://www.transfermarkt.com/detailsuche/spielerdetail/suche/46762278/page/1\")"
   ]
  },
  {
   "cell_type": "markdown",
   "metadata": {},
   "source": [
    "## Create dataframes and scrap the data from Transfermarkt"
   ]
  },
  {
   "cell_type": "code",
   "execution_count": null,
   "metadata": {},
   "outputs": [],
   "source": [
    "df_1985 = pd.DataFrame()\n",
    "df_1986 = pd.DataFrame()\n",
    "df_1987 = pd.DataFrame()\n",
    "df_1988 = pd.DataFrame()\n",
    "df_1989 = pd.DataFrame()\n",
    "df_1990 = pd.DataFrame()\n",
    "df_1991 = pd.DataFrame()\n",
    "df_1992 = pd.DataFrame()\n",
    "df_1993 = pd.DataFrame()\n",
    "df_1994 = pd.DataFrame()\n",
    "df_1995 = pd.DataFrame()\n",
    "df_1996 = pd.DataFrame()\n",
    "df_1997 = pd.DataFrame()\n",
    "df_1998 = pd.DataFrame()\n",
    "df_1999 = pd.DataFrame()\n",
    "df_2000 = pd.DataFrame()\n",
    "df_2001 = pd.DataFrame()\n",
    "df_2002 = pd.DataFrame()\n",
    "df_2003 = pd.DataFrame()\n",
    "df_2004 = pd.DataFrame()\n",
    "df_2005 = pd.DataFrame()"
   ]
  },
  {
   "cell_type": "code",
   "execution_count": null,
   "metadata": {},
   "outputs": [],
   "source": [
    "driver.get(\"https://www.transfermarkt.com/detailsuche/spielerdetail/suche/46762278/page/1\")\n",
    "page_source = driver.page_source\n",
    "rows = []\n",
    "next_buttons = driver.find_elements(By.XPATH,\"//a [@title='Go to the next page']\")\n",
    "count = 2\n",
    "\n",
    "#print(len(next_buttons))\n",
    "\n",
    "#for x in range(len(next_buttons)):\n",
    "while (len(next_buttons)!=0) :\n",
    "    \n",
    "    if next_buttons[0].is_displayed():\n",
    "\n",
    "        soup = BeautifulSoup(page_source, \"html.parser\")\n",
    "        #next_buttons = driver.find_elements(By.XPATH,\"//a [@title='Go to the next page']\")\n",
    "        tables = soup.find_all('table')\n",
    "        table = soup.find('table', class_ = 'items')  \n",
    "      \n",
    "        #Collect data for odd rows  \n",
    "        for row in table.tbody.find_all('tr', class_=\"odd\"):    \n",
    "        # Find all data for each column\n",
    "            columns = row.find_all('td')\n",
    "    \n",
    "            if(columns != []):\n",
    "\n",
    "                nationalities=[]\n",
    "                for nationality in columns[6]:\n",
    "                    if nationality.get(\"title\") is not None :\n",
    "                        nationalities.append(nationality.get(\"title\"))\n",
    "\n",
    "                rows.append({\n",
    "                'Number' : columns[0].text.strip(),\n",
    "                'Name':columns[3].text.strip(),\n",
    "                'Main Position': \"Midfielder\",\n",
    "                'Position': columns[4].text.strip(),\n",
    "                'Date of Birth': columns[5].text.split('(')[0],\n",
    "                'Age': columns[5].text.split('(')[-1].replace(\")\",''),\n",
    "                'Nationality': nationalities ,\n",
    "                'Birth Country': 'England',\n",
    "                'Place of Birth': columns[8].text.strip(),\n",
    "                'Other Positions' : columns[9].text.strip(),\n",
    "                'Height' : columns[10].text.strip(),\n",
    "                'Market Value' : columns[11].text.strip()\n",
    "            } )\n",
    "\n",
    "        #Collect data for even rows\n",
    "        for row in table.tbody.find_all('tr', class_=\"even\"):    \n",
    "        # Find all data for each column\n",
    "            columns = row.find_all('td')\n",
    "    \n",
    "            if(columns != []):\n",
    "\n",
    "                nationalities=[]\n",
    "                for nationality in columns[6]:\n",
    "                    if nationality.get(\"title\") is not None :\n",
    "                        nationalities.append(nationality.get(\"title\"))\n",
    "\n",
    "                rows.append({\n",
    "                'Number' : columns[0].text.strip(),\n",
    "                'Name':columns[3].text.strip(),\n",
    "                'Main Position': \"Midfielder\",\n",
    "                'Position': columns[4].text.strip(),\n",
    "                'Date of Birth': columns[5].text.split('(')[0],\n",
    "                'Age': columns[5].text.split('(')[-1].replace(\")\",''),\n",
    "                'Nationality': nationalities ,\n",
    "                'Birth Country': 'England',\n",
    "                'Place of Birth': columns[8].text.strip(),\n",
    "                'Other Positions' : columns[9].text.strip(),\n",
    "                'Height' : columns[10].text.strip(),\n",
    "                'Market Value' : columns[11].text.strip()\n",
    "            } )        \n",
    "\n",
    "        driver.get(\"https://www.transfermarkt.com/detailsuche/spielerdetail/suche/46762278/page/\" + \"\" + str(count))\n",
    "        page_source = driver.page_source\n",
    "        next_buttons = driver.find_elements(By.XPATH,\"//a [@title='Go to the next page']\")\n",
    "        count +=1\n",
    "\n",
    "\n",
    "page_source = driver.page_source\n",
    "soup = BeautifulSoup(page_source, \"html.parser\")\n",
    "tables = soup.find_all('table')\n",
    "table = soup.find('table', class_ = 'items')  \n",
    "      \n",
    "#Collect data for odd rows        \n",
    "for row in table.tbody.find_all('tr', class_=\"odd\"):    \n",
    "    # Find all data for each column\n",
    "    columns = row.find_all('td')\n",
    "    \n",
    "    if(columns != []):\n",
    "                \n",
    "                nationalities=[]\n",
    "                for nationality in columns[6]:\n",
    "                    if nationality.get(\"title\") is not None :\n",
    "                        nationalities.append(nationality.get(\"title\"))\n",
    "\n",
    "                rows.append({\n",
    "                'Number' : columns[0].text.strip(),\n",
    "                'Name':columns[3].text.strip(),\n",
    "                'Main Position': \"Midfielder\",\n",
    "                'Position': columns[4].text.strip(),\n",
    "                'Date of Birth': columns[5].text.split('(')[0],\n",
    "                'Age': columns[5].text.split('(')[-1].replace(\")\",''),\n",
    "                'Nationality': nationalities ,\n",
    "                'Birth Country': 'England',\n",
    "                'Place of Birth': columns[8].text.strip(),\n",
    "                'Other Positions' : columns[9].text.strip(),\n",
    "                'Height' : columns[10].text.strip(),\n",
    "                'Market Value' : columns[11].text.strip()\n",
    "    } )\n",
    "\n",
    "#Collect data for even rows\n",
    "for row in table.tbody.find_all('tr', class_=\"even\"):    \n",
    "    # Find all data for each column\n",
    "    columns = row.find_all('td')\n",
    "    \n",
    "    if(columns != []):\n",
    "                \n",
    "                nationalities=[]\n",
    "                for nationality in columns[6]:\n",
    "                    if nationality.get(\"title\") is not None :\n",
    "                        nationalities.append(nationality.get(\"title\"))\n",
    "\n",
    "                rows.append({\n",
    "                'Number' : columns[0].text.strip(),\n",
    "                'Name':columns[3].text.strip(),\n",
    "                'Main Position': \"Midfielder\",\n",
    "                'Position': columns[4].text.strip(),\n",
    "                'Date of Birth': columns[5].text.split('(')[0],\n",
    "                'Age': columns[5].text.split('(')[-1].replace(\")\",''),\n",
    "                'Nationality': nationalities ,\n",
    "                'Birth Country': 'England',\n",
    "                'Place of Birth': columns[8].text.strip(),\n",
    "                'Other Positions' : columns[9].text.strip(),\n",
    "                'Height' : columns[10].text.strip(),\n",
    "                'Market Value' : columns[11].text.strip()\n",
    "    } )  \n",
    "\n",
    "df_1985 = pd.DataFrame(rows)               \n",
    "df_1985    \n"
   ]
  },
  {
   "cell_type": "code",
   "execution_count": null,
   "metadata": {},
   "outputs": [],
   "source": [
    "with pd.option_context('display.max_rows',None, 'display.max_columns',None):print(df_2001)"
   ]
  },
  {
   "cell_type": "markdown",
   "metadata": {},
   "source": [
    "## Merge all the dataframes into a single one and save the df into a csv file"
   ]
  },
  {
   "cell_type": "code",
   "execution_count": null,
   "metadata": {},
   "outputs": [],
   "source": [
    "df_merged = pd.concat([df_1985,df_1986,df_1987,df_1988,df_1989,df_1990,df_1991,df_1992,df_1993,df_1994,df_1995,df_1996,df_1997,df_1998,df_1999,df_2000,df_2001,df_2002,df_2003,df_2004,df_2005],ignore_index=True)"
   ]
  },
  {
   "cell_type": "code",
   "execution_count": null,
   "metadata": {},
   "outputs": [],
   "source": [
    "df_merged.info()"
   ]
  },
  {
   "cell_type": "code",
   "execution_count": null,
   "metadata": {},
   "outputs": [],
   "source": [
    "df_merged.to_csv(\"../../data/england/england_defensivemidfields.csv\", header= True, index=False)"
   ]
  }
 ],
 "metadata": {
  "kernelspec": {
   "display_name": "Python 3",
   "language": "python",
   "name": "python3"
  },
  "language_info": {
   "codemirror_mode": {
    "name": "ipython",
    "version": 3
   },
   "file_extension": ".py",
   "mimetype": "text/x-python",
   "name": "python",
   "nbconvert_exporter": "python",
   "pygments_lexer": "ipython3",
   "version": "3.9.6"
  }
 },
 "nbformat": 4,
 "nbformat_minor": 2
}
