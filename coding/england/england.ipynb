{
 "cells": [
  {
   "cell_type": "markdown",
   "metadata": {},
   "source": [
    "## Imports"
   ]
  },
  {
   "cell_type": "code",
   "execution_count": 1,
   "metadata": {},
   "outputs": [],
   "source": [
    "import pandas as pd"
   ]
  },
  {
   "cell_type": "code",
   "execution_count": 2,
   "metadata": {},
   "outputs": [],
   "source": [
    "df_global = pd.DataFrame"
   ]
  },
  {
   "cell_type": "code",
   "execution_count": 3,
   "metadata": {},
   "outputs": [],
   "source": [
    "df_gk = pd.read_csv(\"../../data/england/england_goalkeepers.csv\")\n",
    "df_cb = pd.read_csv(\"../../data/england/england_centerbacks.csv\")\n",
    "df_lb = pd.read_csv(\"../../data/england/england_leftbacks.csv\")\n",
    "df_rb = pd.read_csv(\"../../data/england/england_rightbacks.csv\")\n",
    "df_dm = pd.read_csv(\"../../data/england/england_defensivemidfields.csv\")\n",
    "df_cm = pd.read_csv(\"../../data/england/england_centralmidfields.csv\")\n",
    "df_rm = pd.read_csv(\"../../data/england/england_rightmidfields.csv\")\n",
    "df_lm = pd.read_csv(\"../../data/england/england_leftmidfields.csv\")\n",
    "df_am = pd.read_csv(\"../../data/england/england_attackingmidfields.csv\")\n",
    "df_lw = pd.read_csv(\"../../data/england/england_leftwingers.csv\")\n",
    "df_rw = pd.read_csv(\"../../data/england/england_rightwingers.csv\")\n",
    "df_st = pd.read_csv(\"../../data/england/england_secondstrikers.csv\")\n",
    "df_cf = pd.read_csv(\"../../data/england/england_centerforwards.csv\")"
   ]
  },
  {
   "cell_type": "markdown",
   "metadata": {},
   "source": [
    "## Merge all the dataframes"
   ]
  },
  {
   "cell_type": "code",
   "execution_count": 4,
   "metadata": {},
   "outputs": [],
   "source": [
    "df_global = pd.concat([df_gk, df_cb, df_lb, df_rb, df_dm, df_cm, df_rm, df_lm, df_am, df_lw, df_rw, df_st, df_cf],ignore_index=True)"
   ]
  },
  {
   "cell_type": "code",
   "execution_count": 5,
   "metadata": {},
   "outputs": [
    {
     "name": "stdout",
     "output_type": "stream",
     "text": [
      "<class 'pandas.core.frame.DataFrame'>\n",
      "RangeIndex: 9233 entries, 0 to 9232\n",
      "Data columns (total 12 columns):\n",
      " #   Column           Non-Null Count  Dtype  \n",
      "---  ------           --------------  -----  \n",
      " 0   Number           3335 non-null   float64\n",
      " 1   Name             9233 non-null   object \n",
      " 2   Position         9233 non-null   object \n",
      " 3   Date of Birth    9233 non-null   object \n",
      " 4   Age              9233 non-null   object \n",
      " 5   Nationality      9233 non-null   object \n",
      " 6   Birth Country    9233 non-null   object \n",
      " 7   Place of Birth   8871 non-null   object \n",
      " 8   Height           7185 non-null   object \n",
      " 9   Market Value     9233 non-null   object \n",
      " 10  Main Position    8281 non-null   object \n",
      " 11  Other Positions  5438 non-null   object \n",
      "dtypes: float64(1), object(11)\n",
      "memory usage: 865.7+ KB\n"
     ]
    }
   ],
   "source": [
    "df_global.info()"
   ]
  },
  {
   "cell_type": "markdown",
   "metadata": {},
   "source": [
    "## Goalkeepers"
   ]
  },
  {
   "cell_type": "code",
   "execution_count": 6,
   "metadata": {},
   "outputs": [
    {
     "name": "stdout",
     "output_type": "stream",
     "text": [
      "<class 'pandas.core.frame.DataFrame'>\n",
      "RangeIndex: 952 entries, 0 to 951\n",
      "Data columns (total 10 columns):\n",
      " #   Column          Non-Null Count  Dtype  \n",
      "---  ------          --------------  -----  \n",
      " 0   Number          325 non-null    float64\n",
      " 1   Name            952 non-null    object \n",
      " 2   Position        952 non-null    object \n",
      " 3   Date of Birth   952 non-null    object \n",
      " 4   Age             952 non-null    object \n",
      " 5   Nationality     952 non-null    object \n",
      " 6   Birth Country   952 non-null    object \n",
      " 7   Place of Birth  916 non-null    object \n",
      " 8   Height          696 non-null    object \n",
      " 9   Market Value    952 non-null    object \n",
      "dtypes: float64(1), object(9)\n",
      "memory usage: 74.5+ KB\n"
     ]
    }
   ],
   "source": [
    "df_gk.info()"
   ]
  },
  {
   "cell_type": "code",
   "execution_count": 7,
   "metadata": {},
   "outputs": [
    {
     "name": "stdout",
     "output_type": "stream",
     "text": [
      "10.310841546626232\n"
     ]
    }
   ],
   "source": [
    "print(len(df_gk)/len(df_global)*100)"
   ]
  },
  {
   "cell_type": "markdown",
   "metadata": {},
   "source": [
    "## Defenders"
   ]
  },
  {
   "cell_type": "code",
   "execution_count": 8,
   "metadata": {},
   "outputs": [],
   "source": [
    "df_defenders = pd.concat([ df_cb, df_lb, df_rb],ignore_index=True)"
   ]
  },
  {
   "cell_type": "code",
   "execution_count": 9,
   "metadata": {},
   "outputs": [
    {
     "name": "stdout",
     "output_type": "stream",
     "text": [
      "<class 'pandas.core.frame.DataFrame'>\n",
      "RangeIndex: 3098 entries, 0 to 3097\n",
      "Data columns (total 12 columns):\n",
      " #   Column           Non-Null Count  Dtype  \n",
      "---  ------           --------------  -----  \n",
      " 0   Number           1146 non-null   float64\n",
      " 1   Name             3098 non-null   object \n",
      " 2   Main Position    3098 non-null   object \n",
      " 3   Position         3098 non-null   object \n",
      " 4   Date of Birth    3098 non-null   object \n",
      " 5   Age              3098 non-null   object \n",
      " 6   Nationality      3098 non-null   object \n",
      " 7   Birth Country    3098 non-null   object \n",
      " 8   Place of Birth   2962 non-null   object \n",
      " 9   Other Positions  1845 non-null   object \n",
      " 10  Height           2422 non-null   object \n",
      " 11  Market Value     3098 non-null   object \n",
      "dtypes: float64(1), object(11)\n",
      "memory usage: 290.6+ KB\n"
     ]
    }
   ],
   "source": [
    "df_defenders.info()"
   ]
  },
  {
   "cell_type": "code",
   "execution_count": 10,
   "metadata": {},
   "outputs": [
    {
     "name": "stdout",
     "output_type": "stream",
     "text": [
      "33.55355789017654\n"
     ]
    }
   ],
   "source": [
    "print(len(df_defenders)/len(df_global)*100)"
   ]
  },
  {
   "cell_type": "markdown",
   "metadata": {},
   "source": [
    "## Midfielders"
   ]
  },
  {
   "cell_type": "code",
   "execution_count": 11,
   "metadata": {},
   "outputs": [],
   "source": [
    "df_midfielders = pd.concat([df_dm, df_cm, df_rm, df_lm, df_am],ignore_index=True)"
   ]
  },
  {
   "cell_type": "code",
   "execution_count": 12,
   "metadata": {},
   "outputs": [
    {
     "name": "stdout",
     "output_type": "stream",
     "text": [
      "<class 'pandas.core.frame.DataFrame'>\n",
      "RangeIndex: 2766 entries, 0 to 2765\n",
      "Data columns (total 12 columns):\n",
      " #   Column           Non-Null Count  Dtype  \n",
      "---  ------           --------------  -----  \n",
      " 0   Number           1017 non-null   float64\n",
      " 1   Name             2766 non-null   object \n",
      " 2   Main Position    2766 non-null   object \n",
      " 3   Position         2766 non-null   object \n",
      " 4   Date of Birth    2766 non-null   object \n",
      " 5   Age              2766 non-null   object \n",
      " 6   Nationality      2766 non-null   object \n",
      " 7   Birth Country    2766 non-null   object \n",
      " 8   Place of Birth   2664 non-null   object \n",
      " 9   Other Positions  2171 non-null   object \n",
      " 10  Height           2141 non-null   object \n",
      " 11  Market Value     2766 non-null   object \n",
      "dtypes: float64(1), object(11)\n",
      "memory usage: 259.4+ KB\n"
     ]
    }
   ],
   "source": [
    "df_midfielders.info()"
   ]
  },
  {
   "cell_type": "code",
   "execution_count": 13,
   "metadata": {},
   "outputs": [
    {
     "name": "stdout",
     "output_type": "stream",
     "text": [
      "29.957760207949747\n"
     ]
    }
   ],
   "source": [
    "print(len(df_midfielders)/len(df_global)*100)"
   ]
  },
  {
   "cell_type": "markdown",
   "metadata": {},
   "source": [
    "## Strikers"
   ]
  },
  {
   "cell_type": "code",
   "execution_count": 14,
   "metadata": {},
   "outputs": [],
   "source": [
    "df_strikers = pd.concat([df_lw, df_rw, df_st, df_cf],ignore_index=True)"
   ]
  },
  {
   "cell_type": "code",
   "execution_count": 15,
   "metadata": {},
   "outputs": [
    {
     "name": "stdout",
     "output_type": "stream",
     "text": [
      "<class 'pandas.core.frame.DataFrame'>\n",
      "RangeIndex: 2417 entries, 0 to 2416\n",
      "Data columns (total 12 columns):\n",
      " #   Column           Non-Null Count  Dtype  \n",
      "---  ------           --------------  -----  \n",
      " 0   Number           847 non-null    float64\n",
      " 1   Name             2417 non-null   object \n",
      " 2   Main Position    2417 non-null   object \n",
      " 3   Position         2417 non-null   object \n",
      " 4   Date of Birth    2417 non-null   object \n",
      " 5   Age              2417 non-null   object \n",
      " 6   Nationality      2417 non-null   object \n",
      " 7   Birth Country    2417 non-null   object \n",
      " 8   Place of Birth   2329 non-null   object \n",
      " 9   Other Positions  1422 non-null   object \n",
      " 10  Height           1926 non-null   object \n",
      " 11  Market Value     2417 non-null   object \n",
      "dtypes: float64(1), object(11)\n",
      "memory usage: 226.7+ KB\n"
     ]
    }
   ],
   "source": [
    "df_strikers.info()"
   ]
  },
  {
   "cell_type": "code",
   "execution_count": 16,
   "metadata": {},
   "outputs": [
    {
     "name": "stdout",
     "output_type": "stream",
     "text": [
      "26.177840355247483\n"
     ]
    }
   ],
   "source": [
    "print(len(df_strikers)/len(df_global)*100)"
   ]
  },
  {
   "cell_type": "code",
   "execution_count": null,
   "metadata": {},
   "outputs": [],
   "source": [
    "df_global.to_csv(\"../../data/england/england_global.csv\", header= True, index=False)"
   ]
  }
 ],
 "metadata": {
  "kernelspec": {
   "display_name": "Python 3",
   "language": "python",
   "name": "python3"
  },
  "language_info": {
   "codemirror_mode": {
    "name": "ipython",
    "version": 3
   },
   "file_extension": ".py",
   "mimetype": "text/x-python",
   "name": "python",
   "nbconvert_exporter": "python",
   "pygments_lexer": "ipython3",
   "version": "3.9.6"
  }
 },
 "nbformat": 4,
 "nbformat_minor": 2
}
