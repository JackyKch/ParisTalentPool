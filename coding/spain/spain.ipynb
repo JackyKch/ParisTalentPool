{
 "cells": [
  {
   "cell_type": "markdown",
   "metadata": {},
   "source": [
    "## Imports"
   ]
  },
  {
   "cell_type": "code",
   "execution_count": 1,
   "metadata": {},
   "outputs": [],
   "source": [
    "import pandas as pd"
   ]
  },
  {
   "cell_type": "code",
   "execution_count": 2,
   "metadata": {},
   "outputs": [],
   "source": [
    "df_global = pd.DataFrame"
   ]
  },
  {
   "cell_type": "code",
   "execution_count": 3,
   "metadata": {},
   "outputs": [],
   "source": [
    "df_gk = pd.read_csv(\"../../data/spain/spain_goalkeepers.csv\")\n",
    "df_cb = pd.read_csv(\"../../data/spain/spain_centerbacks.csv\")\n",
    "df_lb = pd.read_csv(\"../../data/spain/spain_leftbacks.csv\")\n",
    "df_rb = pd.read_csv(\"../../data/spain/spain_rightbacks.csv\")\n",
    "df_dm = pd.read_csv(\"../../data/spain/spain_defensivemidfields.csv\")\n",
    "df_cm = pd.read_csv(\"../../data/spain/spain_centralmidfields.csv\")\n",
    "df_rm = pd.read_csv(\"../../data/spain/spain_rightmidfields.csv\")\n",
    "df_lm = pd.read_csv(\"../../data/spain/spain_leftmidfields.csv\")\n",
    "df_am = pd.read_csv(\"../../data/spain/spain_attackingmidfields.csv\")\n",
    "df_lw = pd.read_csv(\"../../data/spain/spain_leftwingers.csv\")\n",
    "df_rw = pd.read_csv(\"../../data/spain/spain_rightwingers.csv\")\n",
    "df_st = pd.read_csv(\"../../data/spain/spain_secondstrikers.csv\")\n",
    "df_cf = pd.read_csv(\"../../data/spain/spain_centerforwards.csv\")"
   ]
  },
  {
   "cell_type": "markdown",
   "metadata": {},
   "source": [
    "## Merge all the dataframes"
   ]
  },
  {
   "cell_type": "code",
   "execution_count": 4,
   "metadata": {},
   "outputs": [],
   "source": [
    "df_global = pd.concat([df_gk, df_cb, df_lb, df_rb, df_dm, df_cm, df_rm, df_lm, df_am, df_lw, df_rw, df_st, df_cf],ignore_index=True)"
   ]
  },
  {
   "cell_type": "code",
   "execution_count": 5,
   "metadata": {},
   "outputs": [
    {
     "name": "stdout",
     "output_type": "stream",
     "text": [
      "<class 'pandas.core.frame.DataFrame'>\n",
      "RangeIndex: 12395 entries, 0 to 12394\n",
      "Data columns (total 12 columns):\n",
      " #   Column           Non-Null Count  Dtype  \n",
      "---  ------           --------------  -----  \n",
      " 0   Number           4558 non-null   float64\n",
      " 1   Name             12395 non-null  object \n",
      " 2   Position         12395 non-null  object \n",
      " 3   Date of Birth    12395 non-null  object \n",
      " 4   Age              12392 non-null  object \n",
      " 5   Nationality      12395 non-null  object \n",
      " 6   Birth Country    12395 non-null  object \n",
      " 7   Place of Birth   12068 non-null  object \n",
      " 8   Height           7336 non-null   object \n",
      " 9   Market Value     11826 non-null  object \n",
      " 10  Main Position    10831 non-null  object \n",
      " 11  Other Positions  5333 non-null   object \n",
      "dtypes: float64(1), object(11)\n",
      "memory usage: 1.1+ MB\n"
     ]
    }
   ],
   "source": [
    "df_global.info()"
   ]
  },
  {
   "cell_type": "markdown",
   "metadata": {},
   "source": [
    "## Goalkeepers"
   ]
  },
  {
   "cell_type": "code",
   "execution_count": 6,
   "metadata": {},
   "outputs": [
    {
     "name": "stdout",
     "output_type": "stream",
     "text": [
      "<class 'pandas.core.frame.DataFrame'>\n",
      "RangeIndex: 1564 entries, 0 to 1563\n",
      "Data columns (total 10 columns):\n",
      " #   Column          Non-Null Count  Dtype  \n",
      "---  ------          --------------  -----  \n",
      " 0   Number          451 non-null    float64\n",
      " 1   Name            1564 non-null   object \n",
      " 2   Position        1564 non-null   object \n",
      " 3   Date of Birth   1564 non-null   object \n",
      " 4   Age             1563 non-null   object \n",
      " 5   Nationality     1564 non-null   object \n",
      " 6   Birth Country   1564 non-null   object \n",
      " 7   Place of Birth  1529 non-null   object \n",
      " 8   Height          1 non-null      object \n",
      " 9   Market Value    995 non-null    object \n",
      "dtypes: float64(1), object(9)\n",
      "memory usage: 122.3+ KB\n"
     ]
    }
   ],
   "source": [
    "df_gk.info()"
   ]
  },
  {
   "cell_type": "code",
   "execution_count": 7,
   "metadata": {},
   "outputs": [
    {
     "name": "stdout",
     "output_type": "stream",
     "text": [
      "12.617991125453813\n"
     ]
    }
   ],
   "source": [
    "print(len(df_gk)/len(df_global)*100)"
   ]
  },
  {
   "cell_type": "markdown",
   "metadata": {},
   "source": [
    "## Defenders"
   ]
  },
  {
   "cell_type": "code",
   "execution_count": 8,
   "metadata": {},
   "outputs": [],
   "source": [
    "df_defenders = pd.concat([ df_cb, df_lb, df_rb],ignore_index=True)"
   ]
  },
  {
   "cell_type": "code",
   "execution_count": 9,
   "metadata": {},
   "outputs": [
    {
     "name": "stdout",
     "output_type": "stream",
     "text": [
      "<class 'pandas.core.frame.DataFrame'>\n",
      "RangeIndex: 4051 entries, 0 to 4050\n",
      "Data columns (total 12 columns):\n",
      " #   Column           Non-Null Count  Dtype  \n",
      "---  ------           --------------  -----  \n",
      " 0   Number           1403 non-null   float64\n",
      " 1   Name             4051 non-null   object \n",
      " 2   Main Position    4051 non-null   object \n",
      " 3   Position         4051 non-null   object \n",
      " 4   Date of Birth    4051 non-null   object \n",
      " 5   Age              4050 non-null   object \n",
      " 6   Nationality      4051 non-null   object \n",
      " 7   Birth Country    4051 non-null   object \n",
      " 8   Place of Birth   3954 non-null   object \n",
      " 9   Other Positions  1776 non-null   object \n",
      " 10  Height           2764 non-null   object \n",
      " 11  Market Value     4051 non-null   object \n",
      "dtypes: float64(1), object(11)\n",
      "memory usage: 379.9+ KB\n"
     ]
    }
   ],
   "source": [
    "df_defenders.info()"
   ]
  },
  {
   "cell_type": "code",
   "execution_count": 10,
   "metadata": {},
   "outputs": [
    {
     "name": "stdout",
     "output_type": "stream",
     "text": [
      "32.6825332795482\n"
     ]
    }
   ],
   "source": [
    "print(len(df_defenders)/len(df_global)*100)"
   ]
  },
  {
   "cell_type": "markdown",
   "metadata": {},
   "source": [
    "## Midfielders"
   ]
  },
  {
   "cell_type": "code",
   "execution_count": 11,
   "metadata": {},
   "outputs": [],
   "source": [
    "df_midfielders = pd.concat([df_dm, df_cm, df_rm, df_lm, df_am],ignore_index=True)"
   ]
  },
  {
   "cell_type": "code",
   "execution_count": 12,
   "metadata": {},
   "outputs": [
    {
     "name": "stdout",
     "output_type": "stream",
     "text": [
      "<class 'pandas.core.frame.DataFrame'>\n",
      "RangeIndex: 3173 entries, 0 to 3172\n",
      "Data columns (total 12 columns):\n",
      " #   Column           Non-Null Count  Dtype  \n",
      "---  ------           --------------  -----  \n",
      " 0   Number           1278 non-null   float64\n",
      " 1   Name             3173 non-null   object \n",
      " 2   Main Position    3173 non-null   object \n",
      " 3   Position         3173 non-null   object \n",
      " 4   Date of Birth    3173 non-null   object \n",
      " 5   Age              3172 non-null   object \n",
      " 6   Nationality      3173 non-null   object \n",
      " 7   Birth Country    3173 non-null   object \n",
      " 8   Place of Birth   3093 non-null   object \n",
      " 9   Other Positions  1603 non-null   object \n",
      " 10  Height           2076 non-null   object \n",
      " 11  Market Value     3173 non-null   object \n",
      "dtypes: float64(1), object(11)\n",
      "memory usage: 297.6+ KB\n"
     ]
    }
   ],
   "source": [
    "df_midfielders.info()"
   ]
  },
  {
   "cell_type": "code",
   "execution_count": 13,
   "metadata": {},
   "outputs": [
    {
     "name": "stdout",
     "output_type": "stream",
     "text": [
      "25.59903186768858\n"
     ]
    }
   ],
   "source": [
    "print(len(df_midfielders)/len(df_global)*100)"
   ]
  },
  {
   "cell_type": "markdown",
   "metadata": {},
   "source": [
    "## Strikers"
   ]
  },
  {
   "cell_type": "code",
   "execution_count": 14,
   "metadata": {},
   "outputs": [],
   "source": [
    "df_strikers = pd.concat([df_lw, df_rw, df_st, df_cf],ignore_index=True)"
   ]
  },
  {
   "cell_type": "code",
   "execution_count": 15,
   "metadata": {},
   "outputs": [
    {
     "name": "stdout",
     "output_type": "stream",
     "text": [
      "<class 'pandas.core.frame.DataFrame'>\n",
      "RangeIndex: 3607 entries, 0 to 3606\n",
      "Data columns (total 12 columns):\n",
      " #   Column           Non-Null Count  Dtype  \n",
      "---  ------           --------------  -----  \n",
      " 0   Number           1426 non-null   float64\n",
      " 1   Name             3607 non-null   object \n",
      " 2   Main Position    3607 non-null   object \n",
      " 3   Position         3607 non-null   object \n",
      " 4   Date of Birth    3607 non-null   object \n",
      " 5   Age              3607 non-null   object \n",
      " 6   Nationality      3607 non-null   object \n",
      " 7   Birth Country    3607 non-null   object \n",
      " 8   Place of Birth   3492 non-null   object \n",
      " 9   Other Positions  1954 non-null   object \n",
      " 10  Height           2495 non-null   object \n",
      " 11  Market Value     3607 non-null   object \n",
      "dtypes: float64(1), object(11)\n",
      "memory usage: 338.3+ KB\n"
     ]
    }
   ],
   "source": [
    "df_strikers.info()"
   ]
  },
  {
   "cell_type": "code",
   "execution_count": 16,
   "metadata": {},
   "outputs": [
    {
     "name": "stdout",
     "output_type": "stream",
     "text": [
      "29.1004437273094\n"
     ]
    }
   ],
   "source": [
    "print(len(df_strikers)/len(df_global)*100)"
   ]
  },
  {
   "cell_type": "code",
   "execution_count": null,
   "metadata": {},
   "outputs": [],
   "source": []
  }
 ],
 "metadata": {
  "kernelspec": {
   "display_name": "Python 3",
   "language": "python",
   "name": "python3"
  },
  "language_info": {
   "codemirror_mode": {
    "name": "ipython",
    "version": 3
   },
   "file_extension": ".py",
   "mimetype": "text/x-python",
   "name": "python",
   "nbconvert_exporter": "python",
   "pygments_lexer": "ipython3",
   "version": "3.9.6"
  }
 },
 "nbformat": 4,
 "nbformat_minor": 2
}
