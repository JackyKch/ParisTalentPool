{
 "cells": [
  {
   "cell_type": "markdown",
   "metadata": {},
   "source": [
    "## Imports"
   ]
  },
  {
   "cell_type": "code",
   "execution_count": 25,
   "metadata": {},
   "outputs": [],
   "source": [
    "import pandas as pd"
   ]
  },
  {
   "cell_type": "code",
   "execution_count": 26,
   "metadata": {},
   "outputs": [],
   "source": [
    "df_global = pd.DataFrame"
   ]
  },
  {
   "cell_type": "code",
   "execution_count": 27,
   "metadata": {},
   "outputs": [],
   "source": [
    "df_global = pd.read_csv(\"../../data/spain/spain_global.csv\")"
   ]
  },
  {
   "cell_type": "code",
   "execution_count": null,
   "metadata": {},
   "outputs": [],
   "source": [
    "df_global.info()"
   ]
  },
  {
   "cell_type": "code",
   "execution_count": null,
   "metadata": {},
   "outputs": [],
   "source": [
    "df_global.tail()"
   ]
  },
  {
   "cell_type": "markdown",
   "metadata": {},
   "source": [
    "## Split the nationalities column"
   ]
  },
  {
   "cell_type": "code",
   "execution_count": 30,
   "metadata": {},
   "outputs": [],
   "source": [
    "df_global['Nationality'] = df_global['Nationality'].str.replace(\"[\", \"\")\n",
    "df_global['Nationality'] = df_global['Nationality'].str.replace(\"'\", \"\")\n",
    "df_global['Nationality'] = df_global['Nationality'].str.replace(\"]\", \"\")"
   ]
  },
  {
   "cell_type": "code",
   "execution_count": null,
   "metadata": {},
   "outputs": [],
   "source": [
    "df_global.head()"
   ]
  },
  {
   "cell_type": "code",
   "execution_count": null,
   "metadata": {},
   "outputs": [],
   "source": [
    "df_global[['Nationality 1', 'Nationality 2', 'Nationality 3']] = df_global['Nationality'].str.split(\",\",expand=True)"
   ]
  },
  {
   "cell_type": "markdown",
   "metadata": {},
   "source": [
    "## Split the other positions"
   ]
  },
  {
   "cell_type": "code",
   "execution_count": null,
   "metadata": {},
   "outputs": [],
   "source": [
    "df_global.head()"
   ]
  },
  {
   "cell_type": "code",
   "execution_count": 34,
   "metadata": {},
   "outputs": [],
   "source": [
    "df_global[['Position 2', 'Position 3']] = df_global['Other Positions'].str.split(expand=True)"
   ]
  },
  {
   "cell_type": "code",
   "execution_count": null,
   "metadata": {},
   "outputs": [],
   "source": [
    "df_global.tail()"
   ]
  },
  {
   "cell_type": "markdown",
   "metadata": {},
   "source": [
    "## Remove parenthesis in place of Birth"
   ]
  },
  {
   "cell_type": "code",
   "execution_count": 36,
   "metadata": {},
   "outputs": [],
   "source": [
    "\n",
    "#strt_pos = df_global['Place of Birth'].values[0].find(\"(\")\n",
    "#stop_pos = df_global['Place of Birth'].values[0].find(\")\")\n",
    "\n",
    "#if (strt_pos == -1) and (stop_pos == -1) : \n",
    "    #i = i+1\n",
    "    #print(strt_pos)\n",
    "    #print(stop_pos)\n",
    "    #print(df_global['Place of Birth'].values[0])\n",
    "#else:\n",
    "    #df_global['Place of Birth'].values[0] = f\"{df_global['Place of Birth'].values[7][:strt_pos:].strip()} {df_global['Place of Birth'].values[7][stop_pos+1:].strip()}\"\n",
    "    #print(\"oui\")\n",
    "    #print(df_global['Place of Birth'].values[7])"
   ]
  },
  {
   "cell_type": "code",
   "execution_count": 37,
   "metadata": {},
   "outputs": [],
   "source": [
    "for i in range(len(df_global)):\n",
    "    if type(df_global['Place of Birth'].values[i]) is str :\n",
    "        strt_pos = df_global['Place of Birth'].values[i].find('(')\n",
    "        stop_pos = df_global['Place of Birth'].values[i].find(')')\n",
    "        if (strt_pos == -1) and (stop_pos == -1) : \n",
    "            i+1\n",
    "        else:\n",
    "            df_global['Place of Birth'].values[i] = f\"{df_global['Place of Birth'].values[i][:strt_pos:].strip()} {df_global['Place of Birth'].values[i][stop_pos+1:].strip()}\"\n",
    "            i+1\n",
    "            df_global['Place of Birth'].values[i] = df_global['Place of Birth'].values[i][:-1]\n",
    "    else: \n",
    "        i+1 "
   ]
  },
  {
   "cell_type": "markdown",
   "metadata": {},
   "source": [
    "## Remove text after comma"
   ]
  },
  {
   "cell_type": "code",
   "execution_count": 38,
   "metadata": {},
   "outputs": [],
   "source": [
    "for i in range(len(df_global)):\n",
    "    if type(df_global['Place of Birth'].values[i]) is str :\n",
    "        df_global['Place of Birth'].values[i] = df_global['Place of Birth'].values[i].split(\",\")[0]\n",
    "    else: \n",
    "        i+1 "
   ]
  },
  {
   "cell_type": "markdown",
   "metadata": {},
   "source": [
    "## Remove accents on birthplaces "
   ]
  },
  {
   "cell_type": "code",
   "execution_count": 39,
   "metadata": {},
   "outputs": [],
   "source": [
    "import unicodedata\n",
    "\n",
    "for i in range(len(df_global)):\n",
    "    if type(df_global['Place of Birth'].values[i]) is str :\n",
    "        n= unicodedata.normalize('NFKD', df_global['Place of Birth'].values[i])\n",
    "        df_global['Place of Birth'].values[i] = ''.join([c for c in n if not unicodedata.combining(c)]) \n",
    "    else: \n",
    "        i+1 "
   ]
  },
  {
   "cell_type": "code",
   "execution_count": null,
   "metadata": {},
   "outputs": [],
   "source": [
    "with pd.option_context('display.max_rows',None, 'display.max_columns',None):print(df_global)"
   ]
  },
  {
   "cell_type": "code",
   "execution_count": 41,
   "metadata": {},
   "outputs": [],
   "source": [
    "df_global.to_csv(\"../../data/spain/spain_clean.csv\", header= True, index=False, encoding=\"utf-8\")"
   ]
  }
 ],
 "metadata": {
  "kernelspec": {
   "display_name": "Python 3",
   "language": "python",
   "name": "python3"
  },
  "language_info": {
   "codemirror_mode": {
    "name": "ipython",
    "version": 3
   },
   "file_extension": ".py",
   "mimetype": "text/x-python",
   "name": "python",
   "nbconvert_exporter": "python",
   "pygments_lexer": "ipython3",
   "version": "3.9.6"
  }
 },
 "nbformat": 4,
 "nbformat_minor": 2
}
