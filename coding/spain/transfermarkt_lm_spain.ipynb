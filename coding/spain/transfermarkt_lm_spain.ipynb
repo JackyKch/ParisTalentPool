{
 "cells": [
  {
   "cell_type": "markdown",
   "metadata": {},
   "source": [
    "# Transfermarkt scrapping with Beautiful Soup & Selenium"
   ]
  },
  {
   "cell_type": "markdown",
   "metadata": {},
   "source": [
    "## Imports"
   ]
  },
  {
   "cell_type": "code",
   "execution_count": 1,
   "metadata": {},
   "outputs": [],
   "source": [
    "import re\n",
    "import requests\n",
    "from bs4 import BeautifulSoup\n",
    "import pandas as pd\n",
    "from selenium import webdriver\n",
    "import time\n",
    "from selenium.webdriver.common.keys import Keys\n",
    "from selenium.webdriver.common.by import By"
   ]
  },
  {
   "cell_type": "markdown",
   "metadata": {},
   "source": [
    "## Webdriver options"
   ]
  },
  {
   "cell_type": "code",
   "execution_count": 2,
   "metadata": {},
   "outputs": [
    {
     "name": "stderr",
     "output_type": "stream",
     "text": [
      "/var/folders/qw/qjxyt3tn1057c6j4pl5tb03c0000gn/T/ipykernel_87025/2000119249.py:6: DeprecationWarning: executable_path has been deprecated, please pass in a Service object\n",
      "  driver = webdriver.Chrome(\"../chromedriver-mac-arm64/chromedriver\",options= options)\n"
     ]
    }
   ],
   "source": [
    "options = webdriver.ChromeOptions()\n",
    "options.add_argument('--ignore-certificate-errors')\n",
    "options.add_argument('--incognito')\n",
    "#options.add_argument('--headless')\n",
    "\n",
    "driver = webdriver.Chrome(\"../chromedriver-mac-arm64/chromedriver\",options= options)\n",
    "driver.get(\"https://www.transfermarkt.com/detailsuche/spielerdetail/suche/46762278/page/1\")"
   ]
  },
  {
   "cell_type": "markdown",
   "metadata": {},
   "source": [
    "## Create dataframes and scrap the data from Transfermarkt"
   ]
  },
  {
   "cell_type": "code",
   "execution_count": 3,
   "metadata": {},
   "outputs": [],
   "source": [
    "df_1985 = pd.DataFrame()\n",
    "df_1986 = pd.DataFrame()\n",
    "df_1987 = pd.DataFrame()\n",
    "df_1988 = pd.DataFrame()\n",
    "df_1989 = pd.DataFrame()\n",
    "df_1990 = pd.DataFrame()\n",
    "df_1991 = pd.DataFrame()\n",
    "df_1992 = pd.DataFrame()\n",
    "df_1993 = pd.DataFrame()\n",
    "df_1994 = pd.DataFrame()\n",
    "df_1995 = pd.DataFrame()\n",
    "df_1996 = pd.DataFrame()\n",
    "df_1997 = pd.DataFrame()\n",
    "df_1998 = pd.DataFrame()\n",
    "df_1999 = pd.DataFrame()\n",
    "df_2000 = pd.DataFrame()\n",
    "df_2001 = pd.DataFrame()\n",
    "df_2002 = pd.DataFrame()\n",
    "df_2003 = pd.DataFrame()\n",
    "df_2004 = pd.DataFrame()\n",
    "df_2005 = pd.DataFrame()"
   ]
  },
  {
   "cell_type": "code",
   "execution_count": 22,
   "metadata": {},
   "outputs": [
    {
     "data": {
      "text/html": [
       "<div>\n",
       "<style scoped>\n",
       "    .dataframe tbody tr th:only-of-type {\n",
       "        vertical-align: middle;\n",
       "    }\n",
       "\n",
       "    .dataframe tbody tr th {\n",
       "        vertical-align: top;\n",
       "    }\n",
       "\n",
       "    .dataframe thead th {\n",
       "        text-align: right;\n",
       "    }\n",
       "</style>\n",
       "<table border=\"1\" class=\"dataframe\">\n",
       "  <thead>\n",
       "    <tr style=\"text-align: right;\">\n",
       "      <th></th>\n",
       "      <th>Number</th>\n",
       "      <th>Name</th>\n",
       "      <th>Main Position</th>\n",
       "      <th>Position</th>\n",
       "      <th>Date of Birth</th>\n",
       "      <th>Age</th>\n",
       "      <th>Nationality</th>\n",
       "      <th>Birth Country</th>\n",
       "      <th>Place of Birth</th>\n",
       "      <th>Other Positions</th>\n",
       "      <th>Height</th>\n",
       "      <th>Market Value</th>\n",
       "    </tr>\n",
       "  </thead>\n",
       "  <tbody>\n",
       "    <tr>\n",
       "      <th>0</th>\n",
       "      <td></td>\n",
       "      <td>Antonio Cortés</td>\n",
       "      <td>Midfielder</td>\n",
       "      <td>Left Midfield</td>\n",
       "      <td>Jan 1, 2005</td>\n",
       "      <td>19</td>\n",
       "      <td>[Spain]</td>\n",
       "      <td>Spain</td>\n",
       "      <td>Granada</td>\n",
       "      <td></td>\n",
       "      <td></td>\n",
       "      <td>-</td>\n",
       "    </tr>\n",
       "    <tr>\n",
       "      <th>1</th>\n",
       "      <td></td>\n",
       "      <td>Marcos Alias</td>\n",
       "      <td>Midfielder</td>\n",
       "      <td>Left Midfield</td>\n",
       "      <td>May 28, 2005</td>\n",
       "      <td>19</td>\n",
       "      <td>[Spain]</td>\n",
       "      <td>Portugal</td>\n",
       "      <td>Málaga</td>\n",
       "      <td></td>\n",
       "      <td>1,80</td>\n",
       "      <td>-</td>\n",
       "    </tr>\n",
       "  </tbody>\n",
       "</table>\n",
       "</div>"
      ],
      "text/plain": [
       "  Number            Name Main Position       Position  Date of Birth Age   \n",
       "0         Antonio Cortés    Midfielder  Left Midfield   Jan 1, 2005   19  \\\n",
       "1           Marcos Alias    Midfielder  Left Midfield  May 28, 2005   19   \n",
       "\n",
       "  Nationality Birth Country Place of Birth Other Positions Height Market Value  \n",
       "0     [Spain]         Spain        Granada                                   -  \n",
       "1     [Spain]      Portugal         Málaga                   1,80            -  "
      ]
     },
     "execution_count": 22,
     "metadata": {},
     "output_type": "execute_result"
    }
   ],
   "source": [
    "#driver.get(\"https://www.transfermarkt.com/detailsuche/spielerdetail/suche/46762278/page/1\")\n",
    "page_source = driver.page_source\n",
    "rows = []\n",
    "next_buttons = driver.find_elements(By.XPATH,\"//a [@title='Go to the next page']\")\n",
    "count = 2\n",
    "\n",
    "#print(len(next_buttons))\n",
    "\n",
    "#for x in range(len(next_buttons)):\n",
    "while (len(next_buttons)!=0) :\n",
    "    \n",
    "    if next_buttons[0].is_displayed():\n",
    "\n",
    "        soup = BeautifulSoup(page_source, \"html.parser\")\n",
    "        #next_buttons = driver.find_elements(By.XPATH,\"//a [@title='Go to the next page']\")\n",
    "        tables = soup.find_all('table')\n",
    "        table = soup.find('table', class_ = 'items')  \n",
    "      \n",
    "        #Collect data for odd rows  \n",
    "        for row in table.tbody.find_all('tr', class_=\"odd\"):    \n",
    "        # Find all data for each column\n",
    "            columns = row.find_all('td')\n",
    "    \n",
    "            if(columns != []):\n",
    "\n",
    "                nationalities=[]\n",
    "                for nationality in columns[6]:\n",
    "                    if nationality.get(\"title\") is not None :\n",
    "                        nationalities.append(nationality.get(\"title\"))\n",
    "\n",
    "                rows.append({\n",
    "                'Number' : columns[0].text.strip(),\n",
    "                'Name':columns[3].text.strip(),\n",
    "                'Main Position': \"Midfielder\",\n",
    "                'Position': columns[4].text.strip(),\n",
    "                'Date of Birth': columns[5].text.split('(')[0],\n",
    "                'Age': columns[5].text.split('(')[-1].replace(\")\",''),\n",
    "                'Nationality': nationalities ,\n",
    "                'Birth Country': 'Spain',\n",
    "                'Place of Birth': columns[8].text.strip(),\n",
    "                'Other Positions' : columns[9].text.strip(),\n",
    "                'Height' : columns[10].text.strip(),\n",
    "                'Market Value' : columns[11].text.strip()\n",
    "            } )\n",
    "\n",
    "        #Collect data for even rows\n",
    "        for row in table.tbody.find_all('tr', class_=\"even\"):    \n",
    "        # Find all data for each column\n",
    "            columns = row.find_all('td')\n",
    "    \n",
    "            if(columns != []):\n",
    "\n",
    "                nationalities=[]\n",
    "                for nationality in columns[6]:\n",
    "                    if nationality.get(\"title\") is not None :\n",
    "                        nationalities.append(nationality.get(\"title\"))\n",
    "\n",
    "                rows.append({\n",
    "                'Number' : columns[0].text.strip(),\n",
    "                'Name':columns[3].text.strip(),\n",
    "                'Main Position': \"Midfielder\",\n",
    "                'Position': columns[4].text.strip(),\n",
    "                'Date of Birth': columns[5].text.split('(')[0],\n",
    "                'Age': columns[5].text.split('(')[-1].replace(\")\",''),\n",
    "                'Nationality': nationalities ,\n",
    "                'Birth Country': 'Spain',\n",
    "                'Place of Birth': columns[8].text.strip(),\n",
    "                'Other Positions' : columns[9].text.strip(),\n",
    "                'Height' : columns[10].text.strip(),\n",
    "                'Market Value' : columns[11].text.strip()\n",
    "            } )        \n",
    "\n",
    "        driver.get(\"https://www.transfermarkt.com/detailsuche/spielerdetail/suche/46762278/page/\" + \"\" + str(count))\n",
    "        page_source = driver.page_source\n",
    "        next_buttons = driver.find_elements(By.XPATH,\"//a [@title='Go to the next page']\")\n",
    "        count +=1\n",
    "\n",
    "\n",
    "page_source = driver.page_source\n",
    "soup = BeautifulSoup(page_source, \"html.parser\")\n",
    "tables = soup.find_all('table')\n",
    "table = soup.find('table', class_ = 'items')  \n",
    "      \n",
    "#Collect data for odd rows        \n",
    "for row in table.tbody.find_all('tr', class_=\"odd\"):    \n",
    "    # Find all data for each column\n",
    "    columns = row.find_all('td')\n",
    "    \n",
    "    if(columns != []):\n",
    "                \n",
    "                nationalities=[]\n",
    "                for nationality in columns[6]:\n",
    "                    if nationality.get(\"title\") is not None :\n",
    "                        nationalities.append(nationality.get(\"title\"))\n",
    "\n",
    "                rows.append({\n",
    "                'Number' : columns[0].text.strip(),\n",
    "                'Name':columns[3].text.strip(),\n",
    "                'Main Position': \"Midfielder\",\n",
    "                'Position': columns[4].text.strip(),\n",
    "                'Date of Birth': columns[5].text.split('(')[0],\n",
    "                'Age': columns[5].text.split('(')[-1].replace(\")\",''),\n",
    "                'Nationality': nationalities ,\n",
    "                'Birth Country': 'Spain',\n",
    "                'Place of Birth': columns[8].text.strip(),\n",
    "                'Other Positions' : columns[9].text.strip(),\n",
    "                'Height' : columns[10].text.strip(),\n",
    "                'Market Value' : columns[11].text.strip()\n",
    "    } )\n",
    "\n",
    "#Collect data for even rows\n",
    "for row in table.tbody.find_all('tr', class_=\"even\"):    \n",
    "    # Find all data for each column\n",
    "    columns = row.find_all('td')\n",
    "    \n",
    "    if(columns != []):\n",
    "                \n",
    "                nationalities=[]\n",
    "                for nationality in columns[6]:\n",
    "                    if nationality.get(\"title\") is not None :\n",
    "                        nationalities.append(nationality.get(\"title\"))\n",
    "\n",
    "                rows.append({\n",
    "                'Number' : columns[0].text.strip(),\n",
    "                'Name':columns[3].text.strip(),\n",
    "                'Main Position': \"Midfielder\",\n",
    "                'Position': columns[4].text.strip(),\n",
    "                'Date of Birth': columns[5].text.split('(')[0],\n",
    "                'Age': columns[5].text.split('(')[-1].replace(\")\",''),\n",
    "                'Nationality': nationalities ,\n",
    "                'Birth Country': 'Portugal',\n",
    "                'Place of Birth': columns[8].text.strip(),\n",
    "                'Other Positions' : columns[9].text.strip(),\n",
    "                'Height' : columns[10].text.strip(),\n",
    "                'Market Value' : columns[11].text.strip()\n",
    "    } )  \n",
    "\n",
    "df_2005 = pd.DataFrame(rows)               \n",
    "df_2005 \n"
   ]
  },
  {
   "cell_type": "code",
   "execution_count": null,
   "metadata": {},
   "outputs": [],
   "source": [
    "with pd.option_context('display.max_rows',None, 'display.max_columns',None):print(df_2001)"
   ]
  },
  {
   "cell_type": "markdown",
   "metadata": {},
   "source": [
    "## Merge all the dataframes into a single one and save the df into a csv file"
   ]
  },
  {
   "cell_type": "code",
   "execution_count": 23,
   "metadata": {},
   "outputs": [],
   "source": [
    "df_merged = pd.concat([df_1985,df_1986,df_1987,df_1988,df_1989,df_1990,df_1991,df_1992,df_1993,df_1994,df_1995,df_1996,df_1997,df_1998,df_1999,df_2000,df_2001,df_2002,df_2003,df_2004,df_2005],ignore_index=True)"
   ]
  },
  {
   "cell_type": "code",
   "execution_count": 24,
   "metadata": {},
   "outputs": [
    {
     "name": "stdout",
     "output_type": "stream",
     "text": [
      "<class 'pandas.core.frame.DataFrame'>\n",
      "RangeIndex: 32 entries, 0 to 31\n",
      "Data columns (total 12 columns):\n",
      " #   Column           Non-Null Count  Dtype \n",
      "---  ------           --------------  ----- \n",
      " 0   Number           32 non-null     object\n",
      " 1   Name             32 non-null     object\n",
      " 2   Main Position    32 non-null     object\n",
      " 3   Position         32 non-null     object\n",
      " 4   Date of Birth    32 non-null     object\n",
      " 5   Age              32 non-null     object\n",
      " 6   Nationality      32 non-null     object\n",
      " 7   Birth Country    32 non-null     object\n",
      " 8   Place of Birth   32 non-null     object\n",
      " 9   Other Positions  32 non-null     object\n",
      " 10  Height           32 non-null     object\n",
      " 11  Market Value     32 non-null     object\n",
      "dtypes: object(12)\n",
      "memory usage: 3.1+ KB\n"
     ]
    }
   ],
   "source": [
    "df_merged.info()"
   ]
  },
  {
   "cell_type": "code",
   "execution_count": 25,
   "metadata": {},
   "outputs": [],
   "source": [
    "df_merged.to_csv(\"../../data/spain/spain_leftmidfields.csv\", header= True, index=False)"
   ]
  }
 ],
 "metadata": {
  "kernelspec": {
   "display_name": "Python 3",
   "language": "python",
   "name": "python3"
  },
  "language_info": {
   "codemirror_mode": {
    "name": "ipython",
    "version": 3
   },
   "file_extension": ".py",
   "mimetype": "text/x-python",
   "name": "python",
   "nbconvert_exporter": "python",
   "pygments_lexer": "ipython3",
   "version": "3.9.6"
  }
 },
 "nbformat": 4,
 "nbformat_minor": 2
}
