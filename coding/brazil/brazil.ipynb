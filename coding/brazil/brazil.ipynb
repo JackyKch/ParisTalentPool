{
 "cells": [
  {
   "cell_type": "markdown",
   "metadata": {},
   "source": [
    "## Imports"
   ]
  },
  {
   "cell_type": "code",
   "execution_count": 1,
   "metadata": {},
   "outputs": [],
   "source": [
    "import pandas as pd"
   ]
  },
  {
   "cell_type": "code",
   "execution_count": 2,
   "metadata": {},
   "outputs": [],
   "source": [
    "df_global = pd.DataFrame"
   ]
  },
  {
   "cell_type": "code",
   "execution_count": 3,
   "metadata": {},
   "outputs": [],
   "source": [
    "df_gk = pd.read_csv(\"../../data/brazil/brazil_goalkeepers.csv\")\n",
    "df_cb = pd.read_csv(\"../../data/brazil/brazil_centerbacks.csv\")\n",
    "df_lb = pd.read_csv(\"../../data/brazil/brazil_leftbacks.csv\")\n",
    "df_rb = pd.read_csv(\"../../data/brazil/brazil_rightbacks.csv\")\n",
    "df_dm = pd.read_csv(\"../../data/brazil/brazil_defensivemidfields.csv\")\n",
    "df_cm = pd.read_csv(\"../../data/brazil/brazil_centralmidfields.csv\")\n",
    "df_rm = pd.read_csv(\"../../data/brazil/brazil_rightmidfields.csv\")\n",
    "df_lm = pd.read_csv(\"../../data/brazil/brazil_leftmidfields.csv\")\n",
    "df_am = pd.read_csv(\"../../data/brazil/brazil_attackingmidfields.csv\")\n",
    "df_lw = pd.read_csv(\"../../data/brazil/brazil_leftwingers.csv\")\n",
    "df_rw = pd.read_csv(\"../../data/brazil/brazil_rightwingers.csv\")\n",
    "df_st = pd.read_csv(\"../../data/brazil/brazil_secondstrikers.csv\")\n",
    "df_cf = pd.read_csv(\"../../data/brazil/brazil_centerforwards.csv\")"
   ]
  },
  {
   "cell_type": "markdown",
   "metadata": {},
   "source": [
    "## Merge all the dataframes"
   ]
  },
  {
   "cell_type": "code",
   "execution_count": 4,
   "metadata": {},
   "outputs": [],
   "source": [
    "df_global = pd.concat([df_gk, df_cb, df_lb, df_rb, df_dm, df_cm, df_rm, df_lm, df_am, df_lw, df_rw, df_st, df_cf],ignore_index=True)"
   ]
  },
  {
   "cell_type": "code",
   "execution_count": 5,
   "metadata": {},
   "outputs": [
    {
     "name": "stdout",
     "output_type": "stream",
     "text": [
      "<class 'pandas.core.frame.DataFrame'>\n",
      "RangeIndex: 14697 entries, 0 to 14696\n",
      "Data columns (total 11 columns):\n",
      " #   Column           Non-Null Count  Dtype  \n",
      "---  ------           --------------  -----  \n",
      " 0   Number           3199 non-null   float64\n",
      " 1   Name             14697 non-null  object \n",
      " 2   Position         14697 non-null  object \n",
      " 3   Date of Birth    14697 non-null  object \n",
      " 4   Age              14692 non-null  object \n",
      " 5   Nationality      14697 non-null  object \n",
      " 6   Birth Country    14697 non-null  object \n",
      " 7   Place of Birth   10878 non-null  object \n",
      " 8   Height           12539 non-null  object \n",
      " 9   Market Value     14697 non-null  object \n",
      " 10  Other Positions  7480 non-null   object \n",
      "dtypes: float64(1), object(10)\n",
      "memory usage: 1.2+ MB\n"
     ]
    }
   ],
   "source": [
    "df_global.info()"
   ]
  },
  {
   "cell_type": "markdown",
   "metadata": {},
   "source": [
    "## Goalkeepers"
   ]
  },
  {
   "cell_type": "code",
   "execution_count": 6,
   "metadata": {},
   "outputs": [
    {
     "name": "stdout",
     "output_type": "stream",
     "text": [
      "<class 'pandas.core.frame.DataFrame'>\n",
      "RangeIndex: 1313 entries, 0 to 1312\n",
      "Data columns (total 10 columns):\n",
      " #   Column          Non-Null Count  Dtype  \n",
      "---  ------          --------------  -----  \n",
      " 0   Number          238 non-null    float64\n",
      " 1   Name            1313 non-null   object \n",
      " 2   Position        1313 non-null   object \n",
      " 3   Date of Birth   1313 non-null   object \n",
      " 4   Age             1312 non-null   object \n",
      " 5   Nationality     1313 non-null   object \n",
      " 6   Birth Country   1313 non-null   object \n",
      " 7   Place of Birth  915 non-null    object \n",
      " 8   Height          1087 non-null   object \n",
      " 9   Market Value    1313 non-null   object \n",
      "dtypes: float64(1), object(9)\n",
      "memory usage: 102.7+ KB\n"
     ]
    }
   ],
   "source": [
    "df_gk.info()"
   ]
  },
  {
   "cell_type": "code",
   "execution_count": 7,
   "metadata": {},
   "outputs": [
    {
     "name": "stdout",
     "output_type": "stream",
     "text": [
      "8.933796012791726\n"
     ]
    }
   ],
   "source": [
    "print(len(df_gk)/len(df_global)*100)"
   ]
  },
  {
   "cell_type": "markdown",
   "metadata": {},
   "source": [
    "## Defenders"
   ]
  },
  {
   "cell_type": "code",
   "execution_count": 8,
   "metadata": {},
   "outputs": [],
   "source": [
    "df_defenders = pd.concat([ df_cb, df_lb, df_rb],ignore_index=True)"
   ]
  },
  {
   "cell_type": "code",
   "execution_count": 9,
   "metadata": {},
   "outputs": [
    {
     "name": "stdout",
     "output_type": "stream",
     "text": [
      "<class 'pandas.core.frame.DataFrame'>\n",
      "RangeIndex: 4633 entries, 0 to 4632\n",
      "Data columns (total 11 columns):\n",
      " #   Column           Non-Null Count  Dtype  \n",
      "---  ------           --------------  -----  \n",
      " 0   Number           963 non-null    float64\n",
      " 1   Name             4633 non-null   object \n",
      " 2   Position         4633 non-null   object \n",
      " 3   Date of Birth    4633 non-null   object \n",
      " 4   Age              4633 non-null   object \n",
      " 5   Nationality      4633 non-null   object \n",
      " 6   Birth Country    4633 non-null   object \n",
      " 7   Place of Birth   3410 non-null   object \n",
      " 8   Other Positions  1812 non-null   object \n",
      " 9   Height           3984 non-null   object \n",
      " 10  Market Value     4633 non-null   object \n",
      "dtypes: float64(1), object(10)\n",
      "memory usage: 398.3+ KB\n"
     ]
    }
   ],
   "source": [
    "df_defenders.info()"
   ]
  },
  {
   "cell_type": "code",
   "execution_count": 10,
   "metadata": {},
   "outputs": [
    {
     "name": "stdout",
     "output_type": "stream",
     "text": [
      "31.523440157855344\n"
     ]
    }
   ],
   "source": [
    "print(len(df_defenders)/len(df_global)*100)"
   ]
  },
  {
   "cell_type": "markdown",
   "metadata": {},
   "source": [
    "## Midfielders"
   ]
  },
  {
   "cell_type": "code",
   "execution_count": 11,
   "metadata": {},
   "outputs": [],
   "source": [
    "df_midfielders = pd.concat([df_dm, df_cm, df_rm, df_lm, df_am],ignore_index=True)"
   ]
  },
  {
   "cell_type": "code",
   "execution_count": 12,
   "metadata": {},
   "outputs": [
    {
     "name": "stdout",
     "output_type": "stream",
     "text": [
      "<class 'pandas.core.frame.DataFrame'>\n",
      "RangeIndex: 4627 entries, 0 to 4626\n",
      "Data columns (total 11 columns):\n",
      " #   Column           Non-Null Count  Dtype  \n",
      "---  ------           --------------  -----  \n",
      " 0   Number           876 non-null    float64\n",
      " 1   Name             4627 non-null   object \n",
      " 2   Position         4627 non-null   object \n",
      " 3   Date of Birth    4627 non-null   object \n",
      " 4   Age              4626 non-null   object \n",
      " 5   Nationality      4627 non-null   object \n",
      " 6   Birth Country    4627 non-null   object \n",
      " 7   Place of Birth   3382 non-null   object \n",
      " 8   Other Positions  3097 non-null   object \n",
      " 9   Height           3855 non-null   object \n",
      " 10  Market Value     4627 non-null   object \n",
      "dtypes: float64(1), object(10)\n",
      "memory usage: 397.8+ KB\n"
     ]
    }
   ],
   "source": [
    "df_midfielders.info()"
   ]
  },
  {
   "cell_type": "code",
   "execution_count": 13,
   "metadata": {},
   "outputs": [
    {
     "name": "stdout",
     "output_type": "stream",
     "text": [
      "31.482615499761856\n"
     ]
    }
   ],
   "source": [
    "print(len(df_midfielders)/len(df_global)*100)"
   ]
  },
  {
   "cell_type": "markdown",
   "metadata": {},
   "source": [
    "## Strikers"
   ]
  },
  {
   "cell_type": "code",
   "execution_count": 14,
   "metadata": {},
   "outputs": [],
   "source": [
    "df_strikers = pd.concat([df_lw, df_rw, df_st, df_cf],ignore_index=True)"
   ]
  },
  {
   "cell_type": "code",
   "execution_count": 15,
   "metadata": {},
   "outputs": [
    {
     "name": "stdout",
     "output_type": "stream",
     "text": [
      "<class 'pandas.core.frame.DataFrame'>\n",
      "RangeIndex: 4124 entries, 0 to 4123\n",
      "Data columns (total 11 columns):\n",
      " #   Column           Non-Null Count  Dtype  \n",
      "---  ------           --------------  -----  \n",
      " 0   Number           1122 non-null   float64\n",
      " 1   Name             4124 non-null   object \n",
      " 2   Position         4124 non-null   object \n",
      " 3   Date of Birth    4124 non-null   object \n",
      " 4   Age              4121 non-null   object \n",
      " 5   Nationality      4124 non-null   object \n",
      " 6   Birth Country    4124 non-null   object \n",
      " 7   Place of Birth   3171 non-null   object \n",
      " 8   Other Positions  2571 non-null   object \n",
      " 9   Height           3613 non-null   object \n",
      " 10  Market Value     4124 non-null   object \n",
      "dtypes: float64(1), object(10)\n",
      "memory usage: 354.5+ KB\n"
     ]
    }
   ],
   "source": [
    "df_strikers.info()"
   ]
  },
  {
   "cell_type": "code",
   "execution_count": 16,
   "metadata": {},
   "outputs": [
    {
     "name": "stdout",
     "output_type": "stream",
     "text": [
      "28.060148329591073\n"
     ]
    }
   ],
   "source": [
    "print(len(df_strikers)/len(df_global)*100)"
   ]
  },
  {
   "cell_type": "code",
   "execution_count": 18,
   "metadata": {},
   "outputs": [],
   "source": [
    "df_global.to_csv(\"../../data/brazil/brazil_global.csv\", header= True, index=False)"
   ]
  }
 ],
 "metadata": {
  "kernelspec": {
   "display_name": "Python 3",
   "language": "python",
   "name": "python3"
  },
  "language_info": {
   "codemirror_mode": {
    "name": "ipython",
    "version": 3
   },
   "file_extension": ".py",
   "mimetype": "text/x-python",
   "name": "python",
   "nbconvert_exporter": "python",
   "pygments_lexer": "ipython3",
   "version": "3.9.6"
  }
 },
 "nbformat": 4,
 "nbformat_minor": 2
}
