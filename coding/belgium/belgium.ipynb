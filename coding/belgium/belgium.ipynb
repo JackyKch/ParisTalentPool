{
 "cells": [
  {
   "cell_type": "markdown",
   "metadata": {},
   "source": [
    "## Imports"
   ]
  },
  {
   "cell_type": "code",
   "execution_count": 1,
   "metadata": {},
   "outputs": [],
   "source": [
    "import pandas as pd"
   ]
  },
  {
   "cell_type": "code",
   "execution_count": 2,
   "metadata": {},
   "outputs": [],
   "source": [
    "df_global = pd.DataFrame"
   ]
  },
  {
   "cell_type": "code",
   "execution_count": 3,
   "metadata": {},
   "outputs": [],
   "source": [
    "df_gk = pd.read_csv(\"../../data/belgium/belgium_goalkeepers.csv\")\n",
    "df_cb = pd.read_csv(\"../../data/belgium/belgium_centerbacks.csv\")\n",
    "df_lb = pd.read_csv(\"../../data/belgium/belgium_leftbacks.csv\")\n",
    "df_rb = pd.read_csv(\"../../data/belgium/belgium_rightbacks.csv\")\n",
    "df_dm = pd.read_csv(\"../../data/belgium/belgium_defensivemidfields.csv\")\n",
    "df_cm = pd.read_csv(\"../../data/belgium/belgium_centralmidfields.csv\")\n",
    "df_rm = pd.read_csv(\"../../data/belgium/belgium_rightmidfields.csv\")\n",
    "df_lm = pd.read_csv(\"../../data/belgium/belgium_leftmidfields.csv\")\n",
    "df_am = pd.read_csv(\"../../data/belgium/belgium_attackingmidfields.csv\")\n",
    "df_lw = pd.read_csv(\"../../data/belgium/belgium_leftwingers.csv\")\n",
    "df_rw = pd.read_csv(\"../../data/belgium/belgium_rightwingers.csv\")\n",
    "df_st = pd.read_csv(\"../../data/belgium/belgium_secondstrikers.csv\")\n",
    "df_cf = pd.read_csv(\"../../data/belgium/belgium_centerforwards.csv\")"
   ]
  },
  {
   "cell_type": "markdown",
   "metadata": {},
   "source": [
    "## Merge all the dataframes"
   ]
  },
  {
   "cell_type": "code",
   "execution_count": 4,
   "metadata": {},
   "outputs": [],
   "source": [
    "df_global = pd.concat([df_gk, df_cb, df_lb, df_rb, df_dm, df_cm, df_rm, df_lm, df_am, df_lw, df_rw, df_st, df_cf],ignore_index=True)"
   ]
  },
  {
   "cell_type": "code",
   "execution_count": 5,
   "metadata": {},
   "outputs": [
    {
     "name": "stdout",
     "output_type": "stream",
     "text": [
      "<class 'pandas.core.frame.DataFrame'>\n",
      "RangeIndex: 2004 entries, 0 to 2003\n",
      "Data columns (total 11 columns):\n",
      " #   Column           Non-Null Count  Dtype  \n",
      "---  ------           --------------  -----  \n",
      " 0   Number           980 non-null    float64\n",
      " 1   Name             2004 non-null   object \n",
      " 2   Position         2004 non-null   object \n",
      " 3   Date of Birth    2004 non-null   object \n",
      " 4   Age              2003 non-null   object \n",
      " 5   Nationality      2004 non-null   object \n",
      " 6   Birth Country    2004 non-null   object \n",
      " 7   Place of Birth   1666 non-null   object \n",
      " 8   Height           1683 non-null   object \n",
      " 9   Market Value     2004 non-null   object \n",
      " 10  Other Positions  1329 non-null   object \n",
      "dtypes: float64(1), object(10)\n",
      "memory usage: 172.3+ KB\n"
     ]
    }
   ],
   "source": [
    "df_global.info()"
   ]
  },
  {
   "cell_type": "markdown",
   "metadata": {},
   "source": [
    "## Goalkeepers"
   ]
  },
  {
   "cell_type": "code",
   "execution_count": 6,
   "metadata": {},
   "outputs": [
    {
     "name": "stdout",
     "output_type": "stream",
     "text": [
      "<class 'pandas.core.frame.DataFrame'>\n",
      "RangeIndex: 247 entries, 0 to 246\n",
      "Data columns (total 10 columns):\n",
      " #   Column          Non-Null Count  Dtype  \n",
      "---  ------          --------------  -----  \n",
      " 0   Number          107 non-null    float64\n",
      " 1   Name            247 non-null    object \n",
      " 2   Position        247 non-null    object \n",
      " 3   Date of Birth   247 non-null    object \n",
      " 4   Age             247 non-null    object \n",
      " 5   Nationality     247 non-null    object \n",
      " 6   Birth Country   247 non-null    object \n",
      " 7   Place of Birth  209 non-null    object \n",
      " 8   Height          203 non-null    object \n",
      " 9   Market Value    247 non-null    object \n",
      "dtypes: float64(1), object(9)\n",
      "memory usage: 19.4+ KB\n"
     ]
    }
   ],
   "source": [
    "df_gk.info()"
   ]
  },
  {
   "cell_type": "code",
   "execution_count": 7,
   "metadata": {},
   "outputs": [
    {
     "name": "stdout",
     "output_type": "stream",
     "text": [
      "12.325349301397205\n"
     ]
    }
   ],
   "source": [
    "print(len(df_gk)/len(df_global)*100)"
   ]
  },
  {
   "cell_type": "markdown",
   "metadata": {},
   "source": [
    "## Defenders"
   ]
  },
  {
   "cell_type": "code",
   "execution_count": 8,
   "metadata": {},
   "outputs": [],
   "source": [
    "df_defenders = pd.concat([ df_cb, df_lb, df_rb],ignore_index=True)"
   ]
  },
  {
   "cell_type": "code",
   "execution_count": 9,
   "metadata": {},
   "outputs": [
    {
     "name": "stdout",
     "output_type": "stream",
     "text": [
      "<class 'pandas.core.frame.DataFrame'>\n",
      "RangeIndex: 644 entries, 0 to 643\n",
      "Data columns (total 11 columns):\n",
      " #   Column           Non-Null Count  Dtype  \n",
      "---  ------           --------------  -----  \n",
      " 0   Number           314 non-null    float64\n",
      " 1   Name             644 non-null    object \n",
      " 2   Position         644 non-null    object \n",
      " 3   Date of Birth    644 non-null    object \n",
      " 4   Age              643 non-null    object \n",
      " 5   Nationality      644 non-null    object \n",
      " 6   Birth Country    644 non-null    object \n",
      " 7   Place of Birth   531 non-null    object \n",
      " 8   Other Positions  462 non-null    object \n",
      " 9   Height           538 non-null    object \n",
      " 10  Market Value     644 non-null    object \n",
      "dtypes: float64(1), object(10)\n",
      "memory usage: 55.5+ KB\n"
     ]
    }
   ],
   "source": [
    "df_defenders.info()"
   ]
  },
  {
   "cell_type": "code",
   "execution_count": 10,
   "metadata": {},
   "outputs": [
    {
     "name": "stdout",
     "output_type": "stream",
     "text": [
      "32.13572854291417\n"
     ]
    }
   ],
   "source": [
    "print(len(df_defenders)/len(df_global)*100)"
   ]
  },
  {
   "cell_type": "markdown",
   "metadata": {},
   "source": [
    "## Midfielders"
   ]
  },
  {
   "cell_type": "code",
   "execution_count": 11,
   "metadata": {},
   "outputs": [],
   "source": [
    "df_midfielders = pd.concat([df_dm, df_cm, df_rm, df_lm, df_am],ignore_index=True)"
   ]
  },
  {
   "cell_type": "code",
   "execution_count": 12,
   "metadata": {},
   "outputs": [
    {
     "name": "stdout",
     "output_type": "stream",
     "text": [
      "<class 'pandas.core.frame.DataFrame'>\n",
      "RangeIndex: 625 entries, 0 to 624\n",
      "Data columns (total 11 columns):\n",
      " #   Column           Non-Null Count  Dtype  \n",
      "---  ------           --------------  -----  \n",
      " 0   Number           301 non-null    float64\n",
      " 1   Name             625 non-null    object \n",
      " 2   Position         625 non-null    object \n",
      " 3   Date of Birth    625 non-null    object \n",
      " 4   Age              625 non-null    object \n",
      " 5   Nationality      625 non-null    object \n",
      " 6   Birth Country    625 non-null    object \n",
      " 7   Place of Birth   523 non-null    object \n",
      " 8   Other Positions  498 non-null    object \n",
      " 9   Height           523 non-null    object \n",
      " 10  Market Value     625 non-null    object \n",
      "dtypes: float64(1), object(10)\n",
      "memory usage: 53.8+ KB\n"
     ]
    }
   ],
   "source": [
    "df_midfielders.info()"
   ]
  },
  {
   "cell_type": "code",
   "execution_count": 13,
   "metadata": {},
   "outputs": [
    {
     "name": "stdout",
     "output_type": "stream",
     "text": [
      "31.187624750499005\n"
     ]
    }
   ],
   "source": [
    "print(len(df_midfielders)/len(df_global)*100)"
   ]
  },
  {
   "cell_type": "markdown",
   "metadata": {},
   "source": [
    "## Strikers"
   ]
  },
  {
   "cell_type": "code",
   "execution_count": 14,
   "metadata": {},
   "outputs": [],
   "source": [
    "df_strikers = pd.concat([df_lw, df_rw, df_st, df_cf],ignore_index=True)"
   ]
  },
  {
   "cell_type": "code",
   "execution_count": 15,
   "metadata": {},
   "outputs": [
    {
     "name": "stdout",
     "output_type": "stream",
     "text": [
      "<class 'pandas.core.frame.DataFrame'>\n",
      "RangeIndex: 488 entries, 0 to 487\n",
      "Data columns (total 11 columns):\n",
      " #   Column           Non-Null Count  Dtype  \n",
      "---  ------           --------------  -----  \n",
      " 0   Number           258 non-null    float64\n",
      " 1   Name             488 non-null    object \n",
      " 2   Position         488 non-null    object \n",
      " 3   Date of Birth    488 non-null    object \n",
      " 4   Age              488 non-null    object \n",
      " 5   Nationality      488 non-null    object \n",
      " 6   Birth Country    488 non-null    object \n",
      " 7   Place of Birth   403 non-null    object \n",
      " 8   Other Positions  369 non-null    object \n",
      " 9   Height           419 non-null    object \n",
      " 10  Market Value     488 non-null    object \n",
      "dtypes: float64(1), object(10)\n",
      "memory usage: 42.1+ KB\n"
     ]
    }
   ],
   "source": [
    "df_strikers.info()"
   ]
  },
  {
   "cell_type": "code",
   "execution_count": 16,
   "metadata": {},
   "outputs": [
    {
     "name": "stdout",
     "output_type": "stream",
     "text": [
      "24.35129740518962\n"
     ]
    }
   ],
   "source": [
    "print(len(df_strikers)/len(df_global)*100)"
   ]
  }
 ],
 "metadata": {
  "kernelspec": {
   "display_name": "Python 3",
   "language": "python",
   "name": "python3"
  },
  "language_info": {
   "codemirror_mode": {
    "name": "ipython",
    "version": 3
   },
   "file_extension": ".py",
   "mimetype": "text/x-python",
   "name": "python",
   "nbconvert_exporter": "python",
   "pygments_lexer": "ipython3",
   "version": "3.9.6"
  }
 },
 "nbformat": 4,
 "nbformat_minor": 2
}
