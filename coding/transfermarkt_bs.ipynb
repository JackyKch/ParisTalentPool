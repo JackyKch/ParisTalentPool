{
 "cells": [
  {
   "cell_type": "code",
   "execution_count": null,
   "metadata": {},
   "outputs": [],
   "source": [
    "import re\n",
    "import requests\n",
    "from bs4 import BeautifulSoup\n",
    "import pandas as pd"
   ]
  },
  {
   "cell_type": "code",
   "execution_count": null,
   "metadata": {},
   "outputs": [],
   "source": [
    "url = \"https://www.transfermarkt.com/detailsuche/spielerdetail/suche/46762278\""
   ]
  },
  {
   "cell_type": "code",
   "execution_count": null,
   "metadata": {},
   "outputs": [],
   "source": [
    "headers = {\n",
    "    'user-agent': 'Mozilla/5.0 (Macintosh; Intel Mac OS X 10_15_7) AppleWebKit/537.36 (KHTML, like Gecko) Chrome/121.0.0.0 Safari/537.36',\n",
    "}\n",
    "response = requests.get(url, headers=headers)\n",
    "soup = BeautifulSoup(response.content, \"html.parser\")"
   ]
  },
  {
   "cell_type": "code",
   "execution_count": null,
   "metadata": {},
   "outputs": [],
   "source": [
    "#for table in soup.find_all('table') :\n",
    "    #print(table.get('class'))"
   ]
  },
  {
   "cell_type": "code",
   "execution_count": null,
   "metadata": {},
   "outputs": [],
   "source": [
    "tables = soup.find_all('table')\n",
    "table = soup.find('table', class_ = 'items')"
   ]
  },
  {
   "cell_type": "code",
   "execution_count": null,
   "metadata": {},
   "outputs": [],
   "source": [
    "rows = []"
   ]
  },
  {
   "cell_type": "code",
   "execution_count": null,
   "metadata": {},
   "outputs": [],
   "source": [
    "# Defining of the dataframe\n",
    "#df = pd.DataFrame(columns=['Number', 'Name', 'Position', 'Date of Birth', 'Nationality', 'Place of Birth', 'Height', 'Market Value'])\n",
    "\n",
    "\n",
    "# Collecting Ddata\n",
    "for row in table.tbody.find_all('tr', class_=\"odd\"):    \n",
    "    # Find all data for each column\n",
    "    columns = row.find_all('td')\n",
    "    \n",
    "    if(columns != []):\n",
    "        rows.append({\n",
    "            'Number' : columns[0].text.strip(),\n",
    "            'Name':columns[3].text.strip(),\n",
    "            'Position': columns[4].text.strip(),\n",
    "            'Date of Birth': columns[5].text.split('(')[0],\n",
    "            'Age': columns[5].text.split('(')[-1].replace(\")\",''),\n",
    "            'Nationality': 'French',\n",
    "            'Place of Birth': columns[8].text.strip(),\n",
    "            'Height' : columns[9].text.strip(), \n",
    "            'Market Value' : columns[10].text.strip()\n",
    "        } )\n",
    "\n",
    "for row in table.tbody.find_all('tr', class_=\"even\"):    \n",
    "    # Find all data for each column\n",
    "    columns = row.find_all('td')\n",
    "    \n",
    "    if(columns != []):\n",
    "        rows.append({\n",
    "            'Number' : columns[0].text.strip(),\n",
    "            'Name':columns[3].text.strip(),\n",
    "            'Position': columns[4].text.strip(),\n",
    "            'Date of Birth': columns[5].text.split('(')[0],\n",
    "            'Age': columns[5].text.split('(')[-1].replace(\")\",''),\n",
    "            'Nationality': 'French',\n",
    "            'Place of Birth': columns[8].text.strip(),\n",
    "            'Height' : columns[9].text.strip(), \n",
    "            'Market Value' : columns[10].text.strip()\n",
    "        } )        \n",
    "\n",
    "\n",
    "\n"
   ]
  },
  {
   "cell_type": "code",
   "execution_count": null,
   "metadata": {},
   "outputs": [],
   "source": [
    "rows"
   ]
  },
  {
   "cell_type": "code",
   "execution_count": null,
   "metadata": {},
   "outputs": [],
   "source": [
    "print(len(rows))"
   ]
  },
  {
   "cell_type": "code",
   "execution_count": null,
   "metadata": {},
   "outputs": [],
   "source": [
    "df = pd.DataFrame(rows)"
   ]
  },
  {
   "cell_type": "code",
   "execution_count": null,
   "metadata": {},
   "outputs": [],
   "source": [
    "df"
   ]
  },
  {
   "cell_type": "code",
   "execution_count": null,
   "metadata": {},
   "outputs": [],
   "source": [
    "df.to_csv(\"../data/france_goalkeepers.csv\", header= True, index=False)"
   ]
  },
  {
   "cell_type": "code",
   "execution_count": null,
   "metadata": {},
   "outputs": [],
   "source": []
  }
 ],
 "metadata": {
  "kernelspec": {
   "display_name": "Python 3",
   "language": "python",
   "name": "python3"
  },
  "language_info": {
   "codemirror_mode": {
    "name": "ipython",
    "version": 3
   },
   "file_extension": ".py",
   "mimetype": "text/x-python",
   "name": "python",
   "nbconvert_exporter": "python",
   "pygments_lexer": "ipython3",
   "version": "3.9.6"
  }
 },
 "nbformat": 4,
 "nbformat_minor": 2
}
