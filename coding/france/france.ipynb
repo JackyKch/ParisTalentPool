{
 "cells": [
  {
   "cell_type": "markdown",
   "metadata": {},
   "source": [
    "## Imports"
   ]
  },
  {
   "cell_type": "code",
   "execution_count": 1,
   "metadata": {},
   "outputs": [],
   "source": [
    "import pandas as pd"
   ]
  },
  {
   "cell_type": "code",
   "execution_count": 2,
   "metadata": {},
   "outputs": [],
   "source": [
    "df_global = pd.DataFrame"
   ]
  },
  {
   "cell_type": "code",
   "execution_count": 3,
   "metadata": {},
   "outputs": [],
   "source": [
    "df_gk = pd.read_csv(\"../../data/france/france_goalkeepers.csv\")\n",
    "df_cb = pd.read_csv(\"../../data/france/france_centerbacks.csv\")\n",
    "df_lb = pd.read_csv(\"../../data/france/france_leftbacks.csv\")\n",
    "df_rb = pd.read_csv(\"../../data/france/france_rightbacks.csv\")\n",
    "df_dm = pd.read_csv(\"../../data/france/france_defensivemidfields.csv\")\n",
    "df_cm = pd.read_csv(\"../../data/france/france_centralmidfields.csv\")\n",
    "df_rm = pd.read_csv(\"../../data/france/france_rightmidfields.csv\")\n",
    "df_lm = pd.read_csv(\"../../data/france/france_leftmidfields.csv\")\n",
    "df_am = pd.read_csv(\"../../data/france/france_attackingmidfields.csv\")\n",
    "df_lw = pd.read_csv(\"../../data/france/france_leftwingers.csv\")\n",
    "df_rw = pd.read_csv(\"../../data/france/france_rightwingers.csv\")\n",
    "df_st = pd.read_csv(\"../../data/france/france_secondstrikers.csv\")\n",
    "df_cf = pd.read_csv(\"../../data/france/france_centerforwards.csv\")"
   ]
  },
  {
   "cell_type": "markdown",
   "metadata": {},
   "source": [
    "## Merge all the dataframes"
   ]
  },
  {
   "cell_type": "code",
   "execution_count": 4,
   "metadata": {},
   "outputs": [],
   "source": [
    "df_global = pd.concat([df_gk, df_cb, df_lb, df_rb, df_dm, df_cm, df_rm, df_lm, df_am, df_lw, df_rw, df_st, df_cf],ignore_index=True)"
   ]
  },
  {
   "cell_type": "code",
   "execution_count": 9,
   "metadata": {},
   "outputs": [
    {
     "name": "stdout",
     "output_type": "stream",
     "text": [
      "<class 'pandas.core.frame.DataFrame'>\n",
      "RangeIndex: 8314 entries, 0 to 8313\n",
      "Data columns (total 11 columns):\n",
      " #   Column           Non-Null Count  Dtype  \n",
      "---  ------           --------------  -----  \n",
      " 0   Number           2968 non-null   float64\n",
      " 1   Name             8314 non-null   object \n",
      " 2   Position         8314 non-null   object \n",
      " 3   Date of Birth    8314 non-null   object \n",
      " 4   Age              8310 non-null   object \n",
      " 5   Nationality      8314 non-null   object \n",
      " 6   Birth Country    8314 non-null   object \n",
      " 7   Place of Birth   7864 non-null   object \n",
      " 8   Height           6966 non-null   object \n",
      " 9   Market Value     8314 non-null   object \n",
      " 10  Other Positions  4963 non-null   object \n",
      "dtypes: float64(1), object(10)\n",
      "memory usage: 714.6+ KB\n"
     ]
    }
   ],
   "source": [
    "df_global.info()"
   ]
  },
  {
   "cell_type": "markdown",
   "metadata": {},
   "source": [
    "## Goalkeepers"
   ]
  },
  {
   "cell_type": "code",
   "execution_count": 10,
   "metadata": {},
   "outputs": [
    {
     "name": "stdout",
     "output_type": "stream",
     "text": [
      "<class 'pandas.core.frame.DataFrame'>\n",
      "RangeIndex: 962 entries, 0 to 961\n",
      "Data columns (total 10 columns):\n",
      " #   Column          Non-Null Count  Dtype  \n",
      "---  ------          --------------  -----  \n",
      " 0   Number          274 non-null    float64\n",
      " 1   Name            962 non-null    object \n",
      " 2   Position        962 non-null    object \n",
      " 3   Date of Birth   962 non-null    object \n",
      " 4   Age             962 non-null    object \n",
      " 5   Nationality     962 non-null    object \n",
      " 6   Birth Country   962 non-null    object \n",
      " 7   Place of Birth  914 non-null    object \n",
      " 8   Height          743 non-null    object \n",
      " 9   Market Value    962 non-null    object \n",
      "dtypes: float64(1), object(9)\n",
      "memory usage: 75.3+ KB\n"
     ]
    }
   ],
   "source": [
    "df_gk.info()"
   ]
  },
  {
   "cell_type": "code",
   "execution_count": 19,
   "metadata": {},
   "outputs": [
    {
     "name": "stdout",
     "output_type": "stream",
     "text": [
      "11.570844358912677\n"
     ]
    }
   ],
   "source": [
    "print(len(df_gk)/len(df_global)*100)"
   ]
  },
  {
   "cell_type": "markdown",
   "metadata": {},
   "source": [
    "## Defenders"
   ]
  },
  {
   "cell_type": "code",
   "execution_count": 11,
   "metadata": {},
   "outputs": [],
   "source": [
    "df_defenders = pd.concat([ df_cb, df_lb, df_rb],ignore_index=True)"
   ]
  },
  {
   "cell_type": "code",
   "execution_count": 12,
   "metadata": {},
   "outputs": [
    {
     "name": "stdout",
     "output_type": "stream",
     "text": [
      "<class 'pandas.core.frame.DataFrame'>\n",
      "RangeIndex: 2793 entries, 0 to 2792\n",
      "Data columns (total 11 columns):\n",
      " #   Column           Non-Null Count  Dtype  \n",
      "---  ------           --------------  -----  \n",
      " 0   Number           1017 non-null   float64\n",
      " 1   Name             2793 non-null   object \n",
      " 2   Position         2793 non-null   object \n",
      " 3   Date of Birth    2793 non-null   object \n",
      " 4   Age              2792 non-null   object \n",
      " 5   Nationality      2793 non-null   object \n",
      " 6   Birth Country    2793 non-null   object \n",
      " 7   Place of Birth   2643 non-null   object \n",
      " 8   Other Positions  1653 non-null   object \n",
      " 9   Height           2380 non-null   object \n",
      " 10  Market Value     2793 non-null   object \n",
      "dtypes: float64(1), object(10)\n",
      "memory usage: 240.1+ KB\n"
     ]
    }
   ],
   "source": [
    "df_defenders.info()"
   ]
  },
  {
   "cell_type": "code",
   "execution_count": 18,
   "metadata": {},
   "outputs": [
    {
     "name": "stdout",
     "output_type": "stream",
     "text": [
      "33.59393793601155\n"
     ]
    }
   ],
   "source": [
    "print(len(df_defenders)/len(df_global)*100)"
   ]
  },
  {
   "cell_type": "markdown",
   "metadata": {},
   "source": [
    "## Midfielders"
   ]
  },
  {
   "cell_type": "code",
   "execution_count": 13,
   "metadata": {},
   "outputs": [],
   "source": [
    "df_midfielders = pd.concat([df_dm, df_cm, df_rm, df_lm, df_am],ignore_index=True)"
   ]
  },
  {
   "cell_type": "code",
   "execution_count": 14,
   "metadata": {},
   "outputs": [
    {
     "name": "stdout",
     "output_type": "stream",
     "text": [
      "<class 'pandas.core.frame.DataFrame'>\n",
      "RangeIndex: 2529 entries, 0 to 2528\n",
      "Data columns (total 11 columns):\n",
      " #   Column           Non-Null Count  Dtype  \n",
      "---  ------           --------------  -----  \n",
      " 0   Number           900 non-null    float64\n",
      " 1   Name             2529 non-null   object \n",
      " 2   Position         2529 non-null   object \n",
      " 3   Date of Birth    2529 non-null   object \n",
      " 4   Age              2526 non-null   object \n",
      " 5   Nationality      2529 non-null   object \n",
      " 6   Birth Country    2529 non-null   object \n",
      " 7   Place of Birth   2393 non-null   object \n",
      " 8   Other Positions  1896 non-null   object \n",
      " 9   Height           2103 non-null   object \n",
      " 10  Market Value     2529 non-null   object \n",
      "dtypes: float64(1), object(10)\n",
      "memory usage: 217.5+ KB\n"
     ]
    }
   ],
   "source": [
    "df_midfielders.info()"
   ]
  },
  {
   "cell_type": "code",
   "execution_count": 20,
   "metadata": {},
   "outputs": [
    {
     "name": "stdout",
     "output_type": "stream",
     "text": [
      "30.418571084917005\n"
     ]
    }
   ],
   "source": [
    "print(len(df_midfielders)/len(df_global)*100)"
   ]
  },
  {
   "cell_type": "markdown",
   "metadata": {},
   "source": [
    "## Strikers"
   ]
  },
  {
   "cell_type": "code",
   "execution_count": 15,
   "metadata": {},
   "outputs": [],
   "source": [
    "df_strikers = pd.concat([df_lw, df_rw, df_st, df_cf],ignore_index=True)"
   ]
  },
  {
   "cell_type": "code",
   "execution_count": 16,
   "metadata": {},
   "outputs": [
    {
     "name": "stdout",
     "output_type": "stream",
     "text": [
      "<class 'pandas.core.frame.DataFrame'>\n",
      "RangeIndex: 2030 entries, 0 to 2029\n",
      "Data columns (total 11 columns):\n",
      " #   Column           Non-Null Count  Dtype  \n",
      "---  ------           --------------  -----  \n",
      " 0   Number           777 non-null    float64\n",
      " 1   Name             2030 non-null   object \n",
      " 2   Position         2030 non-null   object \n",
      " 3   Date of Birth    2030 non-null   object \n",
      " 4   Age              2030 non-null   object \n",
      " 5   Nationality      2030 non-null   object \n",
      " 6   Birth Country    2030 non-null   object \n",
      " 7   Place of Birth   1914 non-null   object \n",
      " 8   Other Positions  1414 non-null   object \n",
      " 9   Height           1740 non-null   object \n",
      " 10  Market Value     2030 non-null   object \n",
      "dtypes: float64(1), object(10)\n",
      "memory usage: 174.6+ KB\n"
     ]
    }
   ],
   "source": [
    "df_strikers.info()"
   ]
  },
  {
   "cell_type": "code",
   "execution_count": 21,
   "metadata": {},
   "outputs": [
    {
     "name": "stdout",
     "output_type": "stream",
     "text": [
      "24.41664662015877\n"
     ]
    }
   ],
   "source": [
    "print(len(df_strikers)/len(df_global)*100)"
   ]
  },
  {
   "cell_type": "code",
   "execution_count": null,
   "metadata": {},
   "outputs": [],
   "source": []
  }
 ],
 "metadata": {
  "kernelspec": {
   "display_name": "Python 3",
   "language": "python",
   "name": "python3"
  },
  "language_info": {
   "codemirror_mode": {
    "name": "ipython",
    "version": 3
   },
   "file_extension": ".py",
   "mimetype": "text/x-python",
   "name": "python",
   "nbconvert_exporter": "python",
   "pygments_lexer": "ipython3",
   "version": "3.9.6"
  }
 },
 "nbformat": 4,
 "nbformat_minor": 2
}
